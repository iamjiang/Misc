{
 "cells": [
  {
   "cell_type": "markdown",
   "id": "a830a948",
   "metadata": {},
   "source": [
    "<span style=\"font-weight: bold; font-size: 18px;\">\n",
    "<p>\n",
    "<b>Since the text length in the corpus is quite long, even though the language model can handle a maximum input of 8,092 tokens or even longer context, such lengthy contexts can dilute the essential information that the LLM is able to process effectively. When the input text is too long, the model may struggle to focus on the most relevant details, which can negatively impact its performance and the quality of its predictions.</b>\n",
    "</p>\n",
    "\n",
    "<p>\n",
    "To address this challenge, it is beneficial to provide the language model with only the most relevant information from the large corpus, rather than overwhelming it with the entire text. By filtering and condensing the input, we can help the LLM focus on the critical content, thereby enhancing its ability to extract essential information and make more accurate predictions.\n",
    "</p>\n",
    "\n",
    "<p>\n",
    "There are two main approaches to achieve this:<br>\n",
    "<div style=\"margin-left: 20px;\"><b>• Summarization:</b> Summarization techniques can be used as a form of feature extraction. By generating concise summaries of the original text, we can distill the most important points and reduce the input length, making it easier for the LLM to process and understand the core information.</div><br>\n",
    "<div style=\"margin-left: 20px;\"><b>• Retrieval-Augmented Generation (RAG):</b> This approach involves retrieving relevant information from the corpus before passing it to the language model. Techniques such as semantic search or keyword-based search (e.g., BM25) can be used to identify and extract the most pertinent sections of text. The retrieved content is then fed into the LLM, ensuring that the model receives focused and contextually relevant information for prediction.</div>\n",
    "</p>\n",
    "\n",
    "<p>\n",
    "By applying either summarization or retrieval-augmented generation, we can significantly improve the efficiency and effectiveness of language models when dealing with large and complex corpora. This targeted approach helps prevent information overload and allows the model to generate more accurate and meaningful outputs.\n",
    "</span>"
   ]
  },
  {
   "cell_type": "code",
   "execution_count": 1,
   "id": "97c20019",
   "metadata": {},
   "outputs": [],
   "source": [
    "# %%capture --no-stderr\n",
    "# %pip install langchain langchain-openai langchain_core langgraph python-dotenv pandas numpy"
   ]
  },
  {
   "cell_type": "markdown",
   "id": "b288bc03",
   "metadata": {},
   "source": [
    "## Summarization + Multi-label classification"
   ]
  },
  {
   "cell_type": "markdown",
   "id": "06f237a5",
   "metadata": {},
   "source": [
    "#### you need openai-api-key to run the following script"
   ]
  },
  {
   "cell_type": "code",
   "execution_count": 2,
   "id": "2a5b37af",
   "metadata": {},
   "outputs": [],
   "source": [
    "import os\n",
    "import re\n",
    "import pandas as pd\n",
    "import pickle\n",
    "from typing import Annotated, List,  Optional\n",
    "from typing_extensions import TypedDict\n",
    "from langchain_openai import ChatOpenAI\n",
    "from langchain_core.output_parsers import StrOutputParser\n",
    "from langchain_core.prompts import ChatPromptTemplate\n",
    "from langchain_core.runnables import RunnableConfig, RunnableLambda, RunnablePassthrough\n",
    "from langgraph.graph import MessagesState, START, END, StateGraph\n",
    "from IPython.display import display, Image\n",
    "from dotenv import load_dotenv, dotenv_values"
   ]
  },
  {
   "cell_type": "code",
   "execution_count": null,
   "id": "31216744",
   "metadata": {},
   "outputs": [],
   "source": [
    "###  input your openai api key into .env file in the path: _dir\n",
    "_dir=\"/mnt/d/D-driver/langgraph\"\n",
    "_=load_dotenv(os.path.join(_dir, \".env\"))"
   ]
  },
  {
   "cell_type": "code",
   "execution_count": 4,
   "id": "91d25af2",
   "metadata": {},
   "outputs": [
    {
     "name": "stderr",
     "output_type": "stream",
     "text": [
      "/tmp/ipykernel_1731408/2023378045.py:4: DeprecationWarning: numpy.core.numeric is deprecated and has been renamed to numpy._core.numeric. The numpy._core namespace contains private NumPy internals and its use is discouraged, as NumPy internals can change without warning in any release. In practice, most real-world usage of numpy.core is to access functionality in the public NumPy API. If that is the case, use the public NumPy API. If not, you are using NumPy internals. If you would still like to access an internal attribute, use numpy._core.numeric._frombuffer.\n",
      "  df = pickle.load(f)\n"
     ]
    }
   ],
   "source": [
    "### Load Dataset for model training and evaluation ###\n",
    "data_path=os.path.join(os.getcwd(), 'processed_data')\n",
    "with open(os.path.join(data_path,'data.pkl'), 'rb') as f:\n",
    "    df = pickle.load(f)"
   ]
  },
  {
   "cell_type": "code",
   "execution_count": 5,
   "id": "77c09fec",
   "metadata": {},
   "outputs": [],
   "source": [
    "sample_df = df[(df['word_count'] >= 500) & (df['word_count'] <= 2000)]\\\n",
    "    .loc[:,['full_text','postures','word_count']]\\\n",
    "    .sample(n=10, random_state=42).reset_index(drop=True)"
   ]
  },
  {
   "cell_type": "code",
   "execution_count": 6,
   "id": "acda4350",
   "metadata": {},
   "outputs": [
    {
     "data": {
      "text/plain": [
       "Index(['full_text', 'postures', 'word_count'], dtype='object')"
      ]
     },
     "execution_count": 6,
     "metadata": {},
     "output_type": "execute_result"
    }
   ],
   "source": [
    "sample_df.columns"
   ]
  },
  {
   "cell_type": "code",
   "execution_count": 7,
   "id": "65501636",
   "metadata": {},
   "outputs": [
    {
     "name": "stdout",
     "output_type": "stream",
     "text": [
      "{'id': 0, 'content': \"In a proceeding pursuant to Mental Hygiene Law article 10, Roderick L. appeals from an order of the Supreme Court, Dutchess County (Peter M. Forman, J.), dated January 13, 2017. \\u2002The order, upon a finding, made after a jury trial, that Roderick L. suffers from a mental abnormality as defined in Mental Hygiene Law §\\u200210.03(i) and a determination, made after a dispositional hearing, that he is a dangerous sex offender requiring civil confinement, in effect, granted the petition and directed that he be committed to a secure treatment facility for care and treatment. ORDERED that the order is affirmed, without costs or disbursements. In June 2000, the appellant was convicted, upon his plea of guilty, of attempted rape in the first degree for a sexual assault he committed on December 23, 1999, against the eight-year-old daughter of his then-girlfriend. \\u2002Prior to the release of the appellant from prison, the State of New York commenced this proceeding pursuant to Mental Hygiene Law article 10, alleging that the appellant is a sex offender requiring civil management (see Mental Hygiene Law §\\u200210.06[a]\\u2009). \\u2002A jury trial was held, after which the jury found that the appellant suffers from a “mental abnormality,” as defined in Mental Hygiene Law §\\u200210.03(i) (see Mental Hygiene Law §\\u200210.07). \\u2002Following a dispositional hearing, the Supreme Court determined that the appellant is a dangerous sex offender requiring civil confinement (see Mental Hygiene Law §\\u200210.07[f]; \\u2009see also Mental Hygiene Law §\\u200210.03[e]\\u2009), in effect, granted the petition, and directed that the appellant be committed to a secure treatment facility and receive further treatment. Contrary to the appellant's contention, legally sufficient evidence supported the jury verdict since there was a valid line of reasoning by which the jury could conclude that the appellant suffered from a mental abnormality as defined in Mental Hygiene Law §\\u200210.03(i) (see Matter of State of New York v. David B., 156 A.D.3d 793, 793, 67 N.Y.S.3d 650; \\u2009Matter of State of New York v. Ian I., 127 A.D.3d 766, 767–768, 7 N.Y.S.3d 199; \\u2009Matter of State of New York v. Raul L., 120 A.D.3d 52, 59, 988 N.Y.S.2d 190). \\u2002Additionally, the verdict was not contrary to the weight of the evidence, as it was supported by a fair interpretation of the evidence (see Matter of State of New York v. David B., 156 A.D.3d at 793, 67 N.Y.S.3d 650; \\u2009Matter of State of New York v. Ian I., 127 A.D.3d at 768, 7 N.Y.S.3d 199). We agree with the Supreme Court's determination to admit certain hearsay evidence regarding allegations in the indictment of sexual assaults committed by the appellant against the eight-year-old child other than the count to which he was allowed to plead guilty. \\u2002That evidence was sufficiently reliable and the probative value of the evidence in assisting the jury to evaluate the experts' opinions substantially outweighed its prejudicial effect (see Matter of State of New York v. John S., 23 N.Y.3d 326, 345, 991 N.Y.S.2d 532, 15 N.E.3d 287; \\u2009Matter of State of New York v. Kerry K., 157 A.D.3d 172, 187, 67 N.Y.S.3d 227). \\u2002Although the court should not have admitted hearsay evidence regarding uncharged allegations of sexual assaults against the eight-year-old child's six-year-old sister, the error was harmless (see Matter of State of New York v. John S., 23 N.Y.3d at 347–348, 991 N.Y.S.2d 532, 15 N.E.3d 287; \\u2009Matter of State of New York v. James M., 140 A.D.3d 1178, 1179, 35 N.Y.S.3d 374). We agree with the Supreme Court's determination to permit the grand jury minutes to be released pursuant to Mental Hygiene Law §\\u200210.08(c) and relied upon by the experts (see Matter of State of New York v. John S., 23 N.Y.3d at 341–342, 991 N.Y.S.2d 532, 15 N.E.3d 287; \\u2009Matter of State of New York v. Kerry K., 157 A.D.3d at 184, 67 N.Y.S.3d 227). We also agree with the Supreme Court's determination to grant the State's application to admit into evidence the written report of its unavailable expert (see Matter of State of New York v. Leroy P., 122 A.D.3d 638, 640, 995 N.Y.S.2d 596). \\u2002Contrary to the appellant's contention, the evidence was not cumulative to the testimony of the State's testifying expert (see Matter of State of New York v. Justin D., 145 A.D.3d 735, 736, 43 N.Y.S.3d 399; \\u2009Matter of State of New York v. Leroy P., 122 A.D.3d at 640, 995 N.Y.S.2d 596). Furthermore, we agree with the Supreme Court's finding, after the dispositional hearing, by clear and convincing evidence, that the appellant's level of dangerousness requires confinement (see Mental Hygiene Law §\\u200210.07[f]; \\u2009Matter of State of New York v. Larry B., 113 A.D.3d 865, 867, 979 N.Y.S.2d 397).\", 'word_count': 782, 'summary_length': 260, 'explanation_length': 156, 'posture': 'On Appeal'}\n"
     ]
    }
   ],
   "source": [
    "class Doc(TypedDict):\n",
    "    id: str\n",
    "    content: str\n",
    "    word_count: int\n",
    "    summary_length: int\n",
    "    explanation_length: int\n",
    "    summary: Optional[str]\n",
    "    explanation: Optional[str]\n",
    "\n",
    "class GraphState(TypedDict):\n",
    "    documents: List[Doc]\n",
    "\n",
    "def run_to_doc(df: pd.DataFrame) -> Doc:\n",
    "    all_data = []\n",
    "    for i in range(len(df)):\n",
    "        d = df.iloc[i]\n",
    "        word_count = int(d['word_count'])\n",
    "        all_data.append({\n",
    "            \"id\": i,\n",
    "            \"content\": d['full_text'],\n",
    "            \"word_count\": word_count,\n",
    "            \"summary_length\": word_count // 3,\n",
    "            \"explanation_length\": word_count // 5,\n",
    "            \"posture\": d['postures']\n",
    "        })\n",
    "    \n",
    "    return all_data\n",
    "# Only clustering 100 documents\n",
    "docs = run_to_doc(sample_df)\n",
    "print(docs[0])"
   ]
  },
  {
   "cell_type": "code",
   "execution_count": null,
   "id": "79785722",
   "metadata": {},
   "outputs": [],
   "source": [
    "_prompt=\"\"\"\n",
    "# Instruction\n",
    "\n",
    "## Context\n",
    "- **Goal**: You are tasked with summarizing the procedural posture for the legal document in judicial opinion or briefs.\n",
    "The procedural posture of a case is a summary of how the case arrives before the court.\n",
    "- **Data**: Your input data is a legal document which describes the procedural history including any prior decisions under appeal.\n",
    "\n",
    "# Data\n",
    "<data>\n",
    "{content}\n",
    "</data>\n",
    "\n",
    "# Questions\n",
    "## Q1. Summarize the input text in {summary_length} words or less.\n",
    "Write the summary between <summary> </summary> tags.\n",
    "\n",
    "Tips:\n",
    "- The summary should contain the relevant information for the procedural posture in as much detail as possible.\n",
    "- Be concise and clear. Do not add phrases like \"This is the summary of the data ...\" or \"Summarized text: ...\".\n",
    "- Similarly, do not reference the user ('the user asked XYZ') unless it's absolutely relevant.\n",
    "- Within {summary_length} words, include as much relevant information as possible.\n",
    "- Do not include any line breaks in the summary.\n",
    "- Provide your answer in **English** only.\n",
    "\n",
    "## Q2. Explain how you wrote the summary in {explanation_length} words or less.\n",
    "\n",
    "## Provide your answers between the tags <summary>your answer to Q1</summary>, <explanation>your answer to Q2</explanation>\n",
    "\n",
    "# Output\n",
    "\n",
    "\n",
    "\"\"\"\n",
    "\n",
    "summary_prompt=ChatPromptTemplate.from_template(_prompt)"
   ]
  },
  {
   "cell_type": "code",
   "execution_count": 9,
   "id": "ef29e6b3",
   "metadata": {},
   "outputs": [],
   "source": [
    "def parse_summary(xml_string: str) -> dict:\n",
    "    summary_pattern = r\"<summary>(.*?)</summary>\"\n",
    "    explanation_pattern = r\"<explanation>(.*?)</explanation>\"\n",
    "    summary_match = re.search(summary_pattern, xml_string, re.DOTALL)\n",
    "    explanation_match = re.search(explanation_pattern, xml_string, re.DOTALL)\n",
    "    summary = summary_match.group(1).strip() if summary_match else \"\"\n",
    "    explanation = explanation_match.group(1).strip() if explanation_match else \"\"\n",
    "    return {\"summary\": summary, \"explanation\": explanation}"
   ]
  },
  {
   "cell_type": "code",
   "execution_count": 10,
   "id": "4981c229",
   "metadata": {},
   "outputs": [],
   "source": [
    "from langchain_openai import ChatOpenAI\n",
    "model = ChatOpenAI(\n",
    "    model=\"gpt-4o\",\n",
    "    temperature=0.0\n",
    ")"
   ]
  },
  {
   "cell_type": "code",
   "execution_count": 11,
   "id": "b650b095",
   "metadata": {},
   "outputs": [],
   "source": [
    "summary_llm_chain = (\n",
    "    summary_prompt | model | StrOutputParser()\n",
    ").with_config(run_name=\"GenerateSummary\")\n",
    "\n",
    "summary_chain = summary_llm_chain | parse_summary\n",
    "\n",
    "def get_content(state: GraphState):\n",
    "    docs = state[\"documents\"]\n",
    "    return [\n",
    "        {\n",
    "            \"content\": doc[\"content\"],\n",
    "            \"summary_length\": doc[\"summary_length\"],\n",
    "            \"explanation_length\": doc[\"explanation_length\"]\n",
    "        }\n",
    "        for doc in docs\n",
    "    ]\n",
    "\n",
    "map_step = RunnablePassthrough.assign(\n",
    "    summaries=get_content\n",
    "    | RunnableLambda(func=summary_chain.batch, afunc=summary_chain.abatch)\n",
    ")\n",
    "\n",
    "def reduce_summaries(combined: dict) -> GraphState:\n",
    "    summaries = combined[\"summaries\"]\n",
    "    documents = combined[\"documents\"]\n",
    "    return {\n",
    "        \"documents\": [\n",
    "            {\n",
    "                \"id\": doc[\"id\"],\n",
    "                \"content\": doc[\"content\"],\n",
    "                \"posture\": doc[\"posture\"],\n",
    "                \"summary\": summ_info[\"summary\"],\n",
    "                \"explanation\": summ_info[\"explanation\"],\n",
    "            }\n",
    "            for doc, summ_info in zip(documents, summaries)\n",
    "        ]\n",
    "    }\n",
    "# This is the summary node\n",
    "map_reduce_chain = map_step | reduce_summaries\n"
   ]
  },
  {
   "cell_type": "code",
   "execution_count": 12,
   "id": "1c93c339",
   "metadata": {},
   "outputs": [
    {
     "data": {
      "text/plain": [
       "{'summary': \"Roderick L. appealed an order from the Supreme Court, Dutchess County, which followed a jury trial and dispositional hearing. The jury found Roderick L. to have a mental abnormality under Mental Hygiene Law § 10.03(i), and the court determined he was a dangerous sex offender requiring civil confinement. The order directed his commitment to a secure treatment facility. The appeal argued against the sufficiency of evidence and the admission of certain hearsay evidence. However, the court affirmed the order, finding the evidence legally sufficient and the verdict supported by a fair interpretation of the evidence. The court also upheld the admission of hearsay evidence related to other allegations of sexual assault, finding it reliable and probative. The court permitted the release of grand jury minutes and the admission of a written report from an unavailable expert. The court's finding of Roderick L.'s dangerousness was supported by clear and convincing evidence, justifying his confinement.\",\n",
       " 'explanation': \"To write the summary, I focused on capturing the key procedural events and decisions in the case. I included the initial conviction, the jury trial, and the dispositional hearing outcomes. I highlighted the appellant's arguments on appeal and the court's reasoning for affirming the order. I ensured to mention the legal standards applied, such as the Mental Hygiene Law sections, and the court's findings on evidence sufficiency and admissibility. I avoided unnecessary details and focused on the procedural history and the court's decisions, ensuring the summary was concise and within the word limit.\"}"
      ]
     },
     "execution_count": 12,
     "metadata": {},
     "output_type": "execute_result"
    }
   ],
   "source": [
    "summary_chain.invoke({\"content\": docs[0][\"content\"], \n",
    "                      \"summary_length\":docs[0][\"summary_length\"], \n",
    "                      \"explanation_length\":docs[0][\"explanation_length\"]})"
   ]
  },
  {
   "cell_type": "markdown",
   "id": "54a391b0",
   "metadata": {},
   "source": [
    "### Graph Execution"
   ]
  },
  {
   "cell_type": "code",
   "execution_count": 13,
   "id": "cfc91904",
   "metadata": {},
   "outputs": [
    {
     "data": {
      "image/png": "[encoded data removed]",
      "text/plain": [
       "<IPython.core.display.Image object>"
      ]
     },
     "metadata": {},
     "output_type": "display_data"
    }
   ],
   "source": [
    "graph=StateGraph(GraphState)\n",
    "graph.add_node(\"summarize\", map_reduce_chain)\n",
    "graph.add_edge(START, \"summarize\")\n",
    "graph.add_edge(\"summarize\",END)\n",
    "app=graph.compile()\n",
    "display(Image(app.get_graph().draw_mermaid_png()))"
   ]
  },
  {
   "cell_type": "code",
   "execution_count": 14,
   "id": "9a06d035",
   "metadata": {},
   "outputs": [],
   "source": [
    "summarization=app.invoke({\"documents\":docs})"
   ]
  },
  {
   "cell_type": "code",
   "execution_count": 17,
   "id": "5b03c992",
   "metadata": {},
   "outputs": [
    {
     "data": {
      "text/html": [
       "<div>\n",
       "<style scoped>\n",
       "    .dataframe tbody tr th:only-of-type {\n",
       "        vertical-align: middle;\n",
       "    }\n",
       "\n",
       "    .dataframe tbody tr th {\n",
       "        vertical-align: top;\n",
       "    }\n",
       "\n",
       "    .dataframe thead th {\n",
       "        text-align: right;\n",
       "    }\n",
       "</style>\n",
       "<table border=\"1\" class=\"dataframe\">\n",
       "  <thead>\n",
       "    <tr style=\"text-align: right;\">\n",
       "      <th></th>\n",
       "      <th>id</th>\n",
       "      <th>content</th>\n",
       "      <th>posture</th>\n",
       "      <th>summary</th>\n",
       "      <th>explanation</th>\n",
       "    </tr>\n",
       "  </thead>\n",
       "  <tbody>\n",
       "    <tr>\n",
       "      <th>0</th>\n",
       "      <td>0</td>\n",
       "      <td>In a proceeding pursuant to Mental Hygiene Law...</td>\n",
       "      <td>On Appeal</td>\n",
       "      <td>Roderick L. appeals from a Supreme Court, Dutc...</td>\n",
       "      <td>To write the summary, I focused on capturing t...</td>\n",
       "    </tr>\n",
       "    <tr>\n",
       "      <th>1</th>\n",
       "      <td>1</td>\n",
       "      <td>Defendant-appellant Ronald Epps appeals from a...</td>\n",
       "      <td>Appellate Review, Trial or Guilt Phase Motion ...</td>\n",
       "      <td>Defendant-appellant Ronald Epps appeals from a...</td>\n",
       "      <td>In writing the summary, I focused on capturing...</td>\n",
       "    </tr>\n",
       "    <tr>\n",
       "      <th>2</th>\n",
       "      <td>2</td>\n",
       "      <td>Proceeding pursuant to CPLR article 78, in eff...</td>\n",
       "      <td>Review of Administrative Decision</td>\n",
       "      <td>The case involves a CPLR article 78 proceeding...</td>\n",
       "      <td>I wrote the summary by focusing on the procedu...</td>\n",
       "    </tr>\n",
       "    <tr>\n",
       "      <th>3</th>\n",
       "      <td>3</td>\n",
       "      <td>In an action, inter alia, to recover damages f...</td>\n",
       "      <td>Motion to Dismiss, On Appeal</td>\n",
       "      <td>In a legal action involving claims of conversi...</td>\n",
       "      <td>I wrote the summary by focusing on the procedu...</td>\n",
       "    </tr>\n",
       "    <tr>\n",
       "      <th>4</th>\n",
       "      <td>4</td>\n",
       "      <td>Appeal from an order of the Family Court of Ch...</td>\n",
       "      <td>On Appeal</td>\n",
       "      <td>This case is an appeal from a Family Court ord...</td>\n",
       "      <td>I focused on the procedural history, detailing...</td>\n",
       "    </tr>\n",
       "    <tr>\n",
       "      <th>5</th>\n",
       "      <td>5</td>\n",
       "      <td>¶ 1 Travis Padgett appeals trial court orders ...</td>\n",
       "      <td>Appellate Review</td>\n",
       "      <td>Travis Padgett appealed trial court orders den...</td>\n",
       "      <td>To write the summary, I focused on capturing t...</td>\n",
       "    </tr>\n",
       "    <tr>\n",
       "      <th>6</th>\n",
       "      <td>6</td>\n",
       "      <td>Desima James appeals his 63-month sentence aft...</td>\n",
       "      <td>Appellate Review, Sentencing or Penalty Phase ...</td>\n",
       "      <td>Desima James appealed his 63-month sentence af...</td>\n",
       "      <td>To write the summary, I focused on capturing t...</td>\n",
       "    </tr>\n",
       "    <tr>\n",
       "      <th>7</th>\n",
       "      <td>7</td>\n",
       "      <td>It is hereby ORDERED that the judgment so appe...</td>\n",
       "      <td>Appellate Review</td>\n",
       "      <td>The procedural posture of the case involves th...</td>\n",
       "      <td>In writing the summary, I focused on capturing...</td>\n",
       "    </tr>\n",
       "    <tr>\n",
       "      <th>8</th>\n",
       "      <td>8</td>\n",
       "      <td>Appeal from a judgment of the Supreme Court (N...</td>\n",
       "      <td>On Appeal, Review of Administrative Decision</td>\n",
       "      <td>Petitioner, a Connecticut resident, had his Ne...</td>\n",
       "      <td>I focused on the key procedural events: the re...</td>\n",
       "    </tr>\n",
       "    <tr>\n",
       "      <th>9</th>\n",
       "      <td>9</td>\n",
       "      <td>In an action to recover damages for personal i...</td>\n",
       "      <td>On Appeal</td>\n",
       "      <td>In a personal injury case, the plaintiff appea...</td>\n",
       "      <td>I focused on summarizing the procedural histor...</td>\n",
       "    </tr>\n",
       "  </tbody>\n",
       "</table>\n",
       "</div>"
      ],
      "text/plain": [
       "   id                                            content  \\\n",
       "0   0  In a proceeding pursuant to Mental Hygiene Law...   \n",
       "1   1  Defendant-appellant Ronald Epps appeals from a...   \n",
       "2   2  Proceeding pursuant to CPLR article 78, in eff...   \n",
       "3   3  In an action, inter alia, to recover damages f...   \n",
       "4   4  Appeal from an order of the Family Court of Ch...   \n",
       "5   5  ¶ 1 Travis Padgett appeals trial court orders ...   \n",
       "6   6  Desima James appeals his 63-month sentence aft...   \n",
       "7   7  It is hereby ORDERED that the judgment so appe...   \n",
       "8   8  Appeal from a judgment of the Supreme Court (N...   \n",
       "9   9  In an action to recover damages for personal i...   \n",
       "\n",
       "                                             posture  \\\n",
       "0                                          On Appeal   \n",
       "1  Appellate Review, Trial or Guilt Phase Motion ...   \n",
       "2                  Review of Administrative Decision   \n",
       "3                       Motion to Dismiss, On Appeal   \n",
       "4                                          On Appeal   \n",
       "5                                   Appellate Review   \n",
       "6  Appellate Review, Sentencing or Penalty Phase ...   \n",
       "7                                   Appellate Review   \n",
       "8       On Appeal, Review of Administrative Decision   \n",
       "9                                          On Appeal   \n",
       "\n",
       "                                             summary  \\\n",
       "0  Roderick L. appeals from a Supreme Court, Dutc...   \n",
       "1  Defendant-appellant Ronald Epps appeals from a...   \n",
       "2  The case involves a CPLR article 78 proceeding...   \n",
       "3  In a legal action involving claims of conversi...   \n",
       "4  This case is an appeal from a Family Court ord...   \n",
       "5  Travis Padgett appealed trial court orders den...   \n",
       "6  Desima James appealed his 63-month sentence af...   \n",
       "7  The procedural posture of the case involves th...   \n",
       "8  Petitioner, a Connecticut resident, had his Ne...   \n",
       "9  In a personal injury case, the plaintiff appea...   \n",
       "\n",
       "                                         explanation  \n",
       "0  To write the summary, I focused on capturing t...  \n",
       "1  In writing the summary, I focused on capturing...  \n",
       "2  I wrote the summary by focusing on the procedu...  \n",
       "3  I wrote the summary by focusing on the procedu...  \n",
       "4  I focused on the procedural history, detailing...  \n",
       "5  To write the summary, I focused on capturing t...  \n",
       "6  To write the summary, I focused on capturing t...  \n",
       "7  In writing the summary, I focused on capturing...  \n",
       "8  I focused on the key procedural events: the re...  \n",
       "9  I focused on summarizing the procedural histor...  "
      ]
     },
     "execution_count": 17,
     "metadata": {},
     "output_type": "execute_result"
    }
   ],
   "source": [
    "final_result=pd.DataFrame(summarization[\"documents\"])\n",
    "final_result"
   ]
  },
  {
   "cell_type": "code",
   "execution_count": 19,
   "id": "21ab81ff",
   "metadata": {},
   "outputs": [
    {
     "name": "stdout",
     "output_type": "stream",
     "text": [
      "========================================\n",
      "Original Content:\n",
      "\n",
      "In a proceeding pursuant to Mental Hygiene Law article 10, Roderick L. appeals from an order of the\n",
      "Supreme Court, Dutchess County (Peter M. Forman, J.), dated January 13, 2017.  The order, upon a\n",
      "finding, made after a jury trial, that Roderick L. suffers from a mental abnormality as defined in\n",
      "Mental Hygiene Law § 10.03(i) and a determination, made after a dispositional hearing, that he is a\n",
      "dangerous sex offender requiring civil confinement, in effect, granted the petition and directed\n",
      "that he be committed to a secure treatment facility for care and treatment. ORDERED that the order\n",
      "is affirmed, without costs or disbursements. In June 2000, the appellant was convicted, upon his\n",
      "plea of guilty, of attempted rape in the first degree for a sexual assault he committed on December\n",
      "23, 1999, against the eight-year-old daughter of his then-girlfriend.  Prior to the release of the\n",
      "appellant from prison, the State of New York commenced this proceeding pursuant to Mental Hygiene\n",
      "Law article 10, alleging that the appellant is a sex offender requiring civil management (see Mental\n",
      "Hygiene Law § 10.06[a] ).  A jury trial was held, after which the jury found that the appellant\n",
      "suffers from a “mental abnormality,” as defined in Mental Hygiene Law § 10.03(i) (see Mental Hygiene\n",
      "Law § 10.07).  Following a dispositional hearing, the Supreme Court determined that the appellant is\n",
      "a dangerous sex offender requiring civil confinement (see Mental Hygiene Law § 10.07[f];  see also\n",
      "Mental Hygiene Law § 10.03[e] ), in effect, granted the petition, and directed that the appellant be\n",
      "committed to a secure treatment facility and receive further treatment. Contrary to the appellant's\n",
      "contention, legally sufficient evidence supported the jury verdict since there was a valid line of\n",
      "reasoning by which the jury could conclude that the appellant suffered from a mental abnormality as\n",
      "defined in Mental Hygiene Law § 10.03(i) (see Matter of State of New York v. David B., 156 A.D.3d\n",
      "793, 793, 67 N.Y.S.3d 650;  Matter of State of New York v. Ian I., 127 A.D.3d 766, 767–768, 7\n",
      "N.Y.S.3d 199;  Matter of State of New York v. Raul L., 120 A.D.3d 52, 59, 988 N.Y.S.2d 190).\n",
      " Additionally, the verdict was not contrary to the weight of the evidence, as it was supported by a\n",
      "fair interpretation of the evidence (see Matter of State of New York v. David B., 156 A.D.3d at 793,\n",
      "67 N.Y.S.3d 650;  Matter of State of New York v. Ian I., 127 A.D.3d at 768, 7 N.Y.S.3d 199). We\n",
      "agree with the Supreme Court's determination to admit certain hearsay evidence regarding allegations\n",
      "in the indictment of sexual assaults committed by the appellant against the eight-year-old child\n",
      "other than the count to which he was allowed to plead guilty.  That evidence was sufficiently\n",
      "reliable and the probative value of the evidence in assisting the jury to evaluate the experts'\n",
      "opinions substantially outweighed its prejudicial effect (see Matter of State of New York v. John\n",
      "S., 23 N.Y.3d 326, 345, 991 N.Y.S.2d 532, 15 N.E.3d 287;  Matter of State of New York v. Kerry K.,\n",
      "157 A.D.3d 172, 187, 67 N.Y.S.3d 227).  Although the court should not have admitted hearsay evidence\n",
      "regarding uncharged allegations of sexual assaults against the eight-year-old child's six-year-old\n",
      "sister, the error was harmless (see Matter of State of New York v. John S., 23 N.Y.3d at 347–348,\n",
      "991 N.Y.S.2d 532, 15 N.E.3d 287;  Matter of State of New York v. James M., 140 A.D.3d 1178, 1179, 35\n",
      "N.Y.S.3d 374). We agree with the Supreme Court's determination to permit the grand jury minutes to\n",
      "be released pursuant to Mental Hygiene Law § 10.08(c) and relied upon by the experts (see Matter of\n",
      "State of New York v. John S., 23 N.Y.3d at 341–342, 991 N.Y.S.2d 532, 15 N.E.3d 287;  Matter of\n",
      "State of New York v. Kerry K., 157 A.D.3d at 184, 67 N.Y.S.3d 227). We also agree with the Supreme\n",
      "Court's determination to grant the State's application to admit into evidence the written report of\n",
      "its unavailable expert (see Matter of State of New York v. Leroy P., 122 A.D.3d 638, 640, 995\n",
      "N.Y.S.2d 596).  Contrary to the appellant's contention, the evidence was not cumulative to the\n",
      "testimony of the State's testifying expert (see Matter of State of New York v. Justin D., 145 A.D.3d\n",
      "735, 736, 43 N.Y.S.3d 399;  Matter of State of New York v. Leroy P., 122 A.D.3d at 640, 995 N.Y.S.2d\n",
      "596). Furthermore, we agree with the Supreme Court's finding, after the dispositional hearing, by\n",
      "clear and convincing evidence, that the appellant's level of dangerousness requires confinement (see\n",
      "Mental Hygiene Law § 10.07[f];  Matter of State of New York v. Larry B., 113 A.D.3d 865, 867, 979\n",
      "N.Y.S.2d 397).\n",
      "\n",
      "========================================\n",
      "Summary:\n",
      "\n",
      "Roderick L. appeals from a Supreme Court, Dutchess County order dated January 13, 2017, which\n",
      "affirmed his civil confinement under Mental Hygiene Law article 10. Initially, Roderick L. was\n",
      "convicted in June 2000 for attempted rape of an eight-year-old. Before his release, New York State\n",
      "initiated proceedings under Mental Hygiene Law article 10, claiming he required civil management. A\n",
      "jury found Roderick L. had a \"mental abnormality\" as per Mental Hygiene Law § 10.03(i). Following a\n",
      "dispositional hearing, the court deemed him a dangerous sex offender needing civil confinement. The\n",
      "court's decision was supported by sufficient evidence and was not against the weight of the\n",
      "evidence. The court admitted certain hearsay evidence and grand jury minutes, which were deemed\n",
      "reliable and probative. The court also allowed the State's expert report despite the expert's\n",
      "unavailability. The court's findings were supported by clear and convincing evidence, affirming\n",
      "Roderick L.'s confinement necessity.\n",
      "\n",
      "========================================\n",
      "Explanation:\n",
      "\n",
      "To write the summary, I focused on capturing the key procedural events and decisions that led to the\n",
      "appeal. I included the initial conviction, the State's initiation of proceedings under Mental\n",
      "Hygiene Law, the jury's finding of a mental abnormality, and the court's determination of Roderick\n",
      "L. as a dangerous sex offender requiring confinement. I also noted the court's evidentiary rulings\n",
      "and the affirmation of the order based on sufficient evidence. The summary was crafted to be concise\n",
      "yet comprehensive, ensuring all critical procedural details were included within the 260-word limit.\n",
      "========================================\n"
     ]
    }
   ],
   "source": [
    "row_idx = 0  \n",
    "row = final_result.iloc[row_idx]\n",
    "\n",
    "import textwrap\n",
    "print(\"=\"*40)\n",
    "print(\"Original Content:\\n\")\n",
    "print( textwrap.fill(row['content'], width=100))\n",
    "print(\"\\n\" + \"=\"*40)\n",
    "print(\"Summary:\\n\")\n",
    "print( textwrap.fill(row['summary'], width=100))\n",
    "print(\"\\n\" + \"=\"*40)\n",
    "print(\"Explanation:\\n\")\n",
    "print( textwrap.fill(row['explanation'], width=100))\n",
    "print(\"=\"*40)"
   ]
  },
  {
   "cell_type": "code",
   "execution_count": null,
   "id": "1a3ad296",
   "metadata": {},
   "outputs": [],
   "source": []
  },
  {
   "cell_type": "code",
   "execution_count": null,
   "id": "d957ab24",
   "metadata": {},
   "outputs": [],
   "source": []
  }
 ],
 "metadata": {
  "kernelspec": {
   "display_name": "report",
   "language": "python",
   "name": "python3"
  },
  "language_info": {
   "codemirror_mode": {
    "name": "ipython",
    "version": 3
   },
   "file_extension": ".py",
   "mimetype": "text/x-python",
   "name": "python",
   "nbconvert_exporter": "python",
   "pygments_lexer": "ipython3",
   "version": "3.13.2"
  }
 },
 "nbformat": 4,
 "nbformat_minor": 5
}
