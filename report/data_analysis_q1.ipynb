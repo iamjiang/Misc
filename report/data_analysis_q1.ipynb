{
 "cells": [
  {
   "cell_type": "markdown",
   "id": "8ea407cf",
   "metadata": {},
   "source": [
    "# TR Data Challenge 2023 - Data Analysis\n",
    "\n",
    "This notebook reads and analyzes the TRDataChallenge2023.txt file containing legal documents."
   ]
  },
  {
   "cell_type": "code",
   "execution_count": 2,
   "id": "934200f4",
   "metadata": {},
   "outputs": [],
   "source": [
    "%%capture --no-stderr\n",
    "%pip install -r /mnt/d/TR-Project/requirements.txt"
   ]
  },
  {
   "cell_type": "code",
   "execution_count": 3,
   "id": "6fe05c2a",
   "metadata": {},
   "outputs": [],
   "source": [
    "import json\n",
    "import os\n",
    "import pickle\n",
    "import pandas as pd\n",
    "import numpy as np\n",
    "import itertools\n",
    "from sklearn.model_selection import train_test_split\n",
    "from sklearn.preprocessing import MultiLabelBinarizer\n",
    "import matplotlib.pyplot as plt\n",
    "import seaborn as sns\n",
    "\n",
    "# Set display options\n",
    "pd.set_option('display.max_columns', None)\n",
    "pd.set_option('display.width', None)\n",
    "pd.set_option('display.max_colwidth', 100)"
   ]
  },
  {
   "cell_type": "markdown",
   "id": "15ab5d71",
   "metadata": {},
   "source": [
    "## 1. Load the Data"
   ]
  },
  {
   "cell_type": "code",
   "execution_count": 4,
   "id": "34f3c527",
   "metadata": {},
   "outputs": [
    {
     "name": "stdout",
     "output_type": "stream",
     "text": [
      "Loading data from: /mnt/d/TR-Project/TRDataChallenge2023.txt\n",
      "File size: 321.03 MB\n",
      "Loaded 5000 lines...\n",
      "Loaded 10000 lines...\n",
      "Loaded 15000 lines...\n",
      "Total documents loaded: 18000\n"
     ]
    }
   ],
   "source": [
    "def load_tr_data(file_path='/mnt/d/TR-Project/TRDataChallenge2023.txt'):\n",
    "    \"\"\"\n",
    "    Load TR data from the text file.\n",
    "    \"\"\"\n",
    "    documents = []\n",
    "    \n",
    "    print(f\"Loading data from: {file_path}\")\n",
    "    file_size_mb = os.path.getsize(file_path) / (1024*1024)\n",
    "    print(f\"File size: {file_size_mb:.2f} MB\")\n",
    "    \n",
    "    with open(file_path, 'r', encoding='utf-8') as file:\n",
    "        for i, line in enumerate(file):\n",
    "            if line.strip():\n",
    "                try:\n",
    "                    doc = json.loads(line.strip())\n",
    "                    documents.append(doc)\n",
    "                    \n",
    "                    if (i + 1) % 5000 == 0:\n",
    "                        print(f\"Loaded {i + 1} lines...\")\n",
    "                        \n",
    "                except json.JSONDecodeError:\n",
    "                    continue\n",
    "    \n",
    "    print(f\"Total documents loaded: {len(documents)}\")\n",
    "    return documents\n",
    "\n",
    "# Load the data\n",
    "documents = load_tr_data()"
   ]
  },
  {
   "cell_type": "markdown",
   "id": "e02610a3",
   "metadata": {},
   "source": [
    "## 2. Explore Raw Data Structure"
   ]
  },
  {
   "cell_type": "markdown",
   "id": "509219a7",
   "metadata": {},
   "source": [
    "#### explore data structure in terminal before reading it</br>\n",
    "```bash\n",
    "head -n 1 TRDataChallenge2023.txt | python3 -m json.tool\n",
    "```"
   ]
  },
  {
   "cell_type": "code",
   "execution_count": 5,
   "id": "690c2cf7",
   "metadata": {},
   "outputs": [
    {
     "name": "stdout",
     "output_type": "stream",
     "text": [
      "Keys in first document:\n",
      "['documentId', 'postures', 'sections']\n",
      "\n",
      "First document:\n",
      "{\n",
      "  \"documentId\": \"Ib4e590e0a55f11e8a5d58a2c8dcb28b5\",\n",
      "  \"postures\": [\n",
      "    \"On Appeal\"\n",
      "  ],\n",
      "  \"sections\": [\n",
      "    {\n",
      "      \"headtext\": \"\",\n",
      "      \"paragraphs\": [\n",
      "        \"Plaintiff Dwight Watson (\\u201cHusband\\u201d) appeals from the trial court\\u2019s equitable distribution order entered 28 February 2017. On appeal, plaintiff contends that the trial court erred in its classification, valuation, and distribution of the parties\\u2019 property and in granting defendant Gertha\\u2009 Watson (\\u201cWife\\u201d) an unequal distribution of martial property. Because the trial court\\u2019s findings of fact do not support its conclusions of law and because the distributional factors found by the trial court are based upon some of those erroneous findings and conclusions, we reverse the equitable distribution order and remand for entry of a new equitable distribution order.\"\n",
      "      ]\n",
      "    },\n",
      "    {\n",
      "      \"headtext\": \"Background\",\n",
      "      \"paragraphs\": [\n",
      "        \"Husband and Wife were married in November 19...\n"
     ]
    }
   ],
   "source": [
    "# Examine the structure of the first document\n",
    "if documents:\n",
    "    print(\"Keys in first document:\")\n",
    "    print(list(documents[0].keys()))\n",
    "    \n",
    "    print(\"\\nFirst document:\")\n",
    "    print(json.dumps(documents[0], indent=2)[:1000] + \"...\")  # Show first 1000 chars"
   ]
  },
  {
   "cell_type": "markdown",
   "id": "0bb3d096",
   "metadata": {},
   "source": [
    "## 3. Convert to DataFrame"
   ]
  },
  {
   "cell_type": "code",
   "execution_count": 6,
   "id": "fccfd83a",
   "metadata": {},
   "outputs": [
    {
     "name": "stdout",
     "output_type": "stream",
     "text": [
      "DataFrame shape: (18000, 10)\n"
     ]
    },
    {
     "data": {
      "text/html": [
       "<div>\n",
       "<style scoped>\n",
       "    .dataframe tbody tr th:only-of-type {\n",
       "        vertical-align: middle;\n",
       "    }\n",
       "\n",
       "    .dataframe tbody tr th {\n",
       "        vertical-align: top;\n",
       "    }\n",
       "\n",
       "    .dataframe thead th {\n",
       "        text-align: right;\n",
       "    }\n",
       "</style>\n",
       "<table border=\"1\" class=\"dataframe\">\n",
       "  <thead>\n",
       "    <tr style=\"text-align: right;\">\n",
       "      <th></th>\n",
       "      <th>document_id</th>\n",
       "      <th>postures</th>\n",
       "      <th>num_postures</th>\n",
       "      <th>num_sections</th>\n",
       "      <th>section_headers</th>\n",
       "      <th>full_text</th>\n",
       "      <th>text_length</th>\n",
       "      <th>word_count</th>\n",
       "      <th>num_paragraphs</th>\n",
       "      <th>num_headers</th>\n",
       "    </tr>\n",
       "  </thead>\n",
       "  <tbody>\n",
       "    <tr>\n",
       "      <th>0</th>\n",
       "      <td>Ib4e590e0a55f11e8a5d58a2c8dcb28b5</td>\n",
       "      <td>On Appeal</td>\n",
       "      <td>1</td>\n",
       "      <td>8</td>\n",
       "      <td>Background | Analysis | I. Classification issues | A. Cadillac El Dorado | B. Valuation of home ...</td>\n",
       "      <td>Plaintiff Dwight Watson (“Husband”) appeals from the trial court’s equitable distribution order ...</td>\n",
       "      <td>25583</td>\n",
       "      <td>4224</td>\n",
       "      <td>44</td>\n",
       "      <td>7</td>\n",
       "    </tr>\n",
       "    <tr>\n",
       "      <th>1</th>\n",
       "      <td>Ib06ab4d056a011e98c7a8e995225dbf9</td>\n",
       "      <td>Appellate Review, Sentencing or Penalty Phase Motion or Objection</td>\n",
       "      <td>2</td>\n",
       "      <td>10</td>\n",
       "      <td>A. Offense Conduct | B. Prior Convictions | C. Guilty Plea | D. Sentencing | II. DISCUSSION | A....</td>\n",
       "      <td>After pleading guilty, William Jerome Howard, Jr., appeals his 168-month sentence for possession...</td>\n",
       "      <td>18846</td>\n",
       "      <td>3004</td>\n",
       "      <td>29</td>\n",
       "      <td>9</td>\n",
       "    </tr>\n",
       "  </tbody>\n",
       "</table>\n",
       "</div>"
      ],
      "text/plain": [
       "                         document_id  \\\n",
       "0  Ib4e590e0a55f11e8a5d58a2c8dcb28b5   \n",
       "1  Ib06ab4d056a011e98c7a8e995225dbf9   \n",
       "\n",
       "                                                            postures  \\\n",
       "0                                                          On Appeal   \n",
       "1  Appellate Review, Sentencing or Penalty Phase Motion or Objection   \n",
       "\n",
       "   num_postures  num_sections  \\\n",
       "0             1             8   \n",
       "1             2            10   \n",
       "\n",
       "                                                                                       section_headers  \\\n",
       "0  Background | Analysis | I. Classification issues | A. Cadillac El Dorado | B. Valuation of home ...   \n",
       "1  A. Offense Conduct | B. Prior Convictions | C. Guilty Plea | D. Sentencing | II. DISCUSSION | A....   \n",
       "\n",
       "                                                                                             full_text  \\\n",
       "0  Plaintiff Dwight Watson (“Husband”) appeals from the trial court’s equitable distribution order ...   \n",
       "1  After pleading guilty, William Jerome Howard, Jr., appeals his 168-month sentence for possession...   \n",
       "\n",
       "   text_length  word_count  num_paragraphs  num_headers  \n",
       "0        25583        4224              44            7  \n",
       "1        18846        3004              29            9  "
      ]
     },
     "execution_count": 6,
     "metadata": {},
     "output_type": "execute_result"
    }
   ],
   "source": [
    "def create_dataframe(documents):\n",
    "    \"\"\"\n",
    "    Convert documents to a pandas DataFrame.\n",
    "    \"\"\"\n",
    "    data = []\n",
    "    \n",
    "    for doc in documents:\n",
    "        # Basic document info\n",
    "        row = {\n",
    "            'document_id': doc.get('documentId', ''),\n",
    "            'postures': ', '.join(doc.get('postures', [])),\n",
    "            'num_postures': len(doc.get('postures', [])),\n",
    "            'num_sections': len(doc.get('sections', [])),\n",
    "        }\n",
    "        \n",
    "        # Extract text content\n",
    "        all_text = []\n",
    "        section_headers = []\n",
    "        \n",
    "        for section in doc.get('sections', []):\n",
    "            header = section.get('headtext', '')\n",
    "            if header:\n",
    "                section_headers.append(header)\n",
    "            \n",
    "            paragraphs = section.get('paragraphs', [])\n",
    "            all_text.extend(paragraphs)\n",
    "        \n",
    "        row['section_headers'] = ' | '.join(section_headers)\n",
    "        row['full_text'] = ' '.join(all_text)\n",
    "        row['text_length'] = len(row['full_text'])\n",
    "        row['word_count'] = len(row['full_text'].split())\n",
    "        row['num_paragraphs'] = len(all_text)\n",
    "        row['num_headers'] = len(section_headers)\n",
    "        \n",
    "        data.append(row)\n",
    "    \n",
    "    return pd.DataFrame(data)\n",
    "\n",
    "# Create DataFrame\n",
    "df = create_dataframe(documents)\n",
    "print(f\"DataFrame shape: {df.shape}\")\n",
    "df.head(2)"
   ]
  },
  {
   "cell_type": "code",
   "execution_count": 7,
   "id": "feae6443",
   "metadata": {},
   "outputs": [
    {
     "data": {
      "text/html": [
       "<span style=\"font-size: 150%;\">Examining the posture values in the dataframe reveals this is a classic multi-label classification problem. Each document can be assigned multiple posture labels simultaneously.</span>"
      ],
      "text/plain": [
       "<IPython.core.display.HTML object>"
      ]
     },
     "metadata": {},
     "output_type": "display_data"
    }
   ],
   "source": [
    "from IPython.display import HTML, display\n",
    "\n",
    "text = (\n",
    "    \"Examining the posture values in the dataframe reveals this is a classic \"\n",
    "    \"multi-label classification problem. Each document can be assigned multiple \"\n",
    "    \"posture labels simultaneously.\"\n",
    ")\n",
    "\n",
    "display(HTML(f'<span style=\"font-size: 150%;\">{text}</span>'))"
   ]
  },
  {
   "cell_type": "markdown",
   "id": "9db6b985",
   "metadata": {},
   "source": [
    "## 4. Data Analysis and Visualization"
   ]
  },
  {
   "cell_type": "code",
   "execution_count": 8,
   "id": "9eb06eb2",
   "metadata": {},
   "outputs": [
    {
     "name": "stdout",
     "output_type": "stream",
     "text": [
      "Dataset Overview:\n",
      "<class 'pandas.core.frame.DataFrame'>\n",
      "RangeIndex: 18000 entries, 0 to 17999\n",
      "Data columns (total 10 columns):\n",
      " #   Column           Non-Null Count  Dtype \n",
      "---  ------           --------------  ----- \n",
      " 0   document_id      18000 non-null  object\n",
      " 1   postures         18000 non-null  object\n",
      " 2   num_postures     18000 non-null  int64 \n",
      " 3   num_sections     18000 non-null  int64 \n",
      " 4   section_headers  18000 non-null  object\n",
      " 5   full_text        18000 non-null  object\n",
      " 6   text_length      18000 non-null  int64 \n",
      " 7   word_count       18000 non-null  int64 \n",
      " 8   num_paragraphs   18000 non-null  int64 \n",
      " 9   num_headers      18000 non-null  int64 \n",
      "dtypes: int64(6), object(4)\n",
      "memory usage: 1.4+ MB\n",
      "None\n",
      "\n",
      "Descriptive Statistics:\n",
      "\n",
      "       num_postures  num_sections  text_length  word_count  num_paragraphs  num_headers\n",
      "count      18000.00      18000.00     18000.00    18000.00        18000.00     18000.00\n",
      "mean           1.54          5.09     17986.55     2891.67           30.12         4.45\n",
      "std            0.75          5.73     19491.45     3119.72           34.08         5.88\n",
      "min            0.00          1.00         0.00        0.00            0.00         0.00\n",
      "25%            1.00          1.00      5642.25      905.00            8.00         0.00\n",
      "50%            1.00          4.00     12809.50     2062.00           21.00         3.00\n",
      "75%            2.00          7.00     23892.75     3838.25           40.00         7.00\n",
      "max            7.00         91.00    785135.00   124134.00         1174.00        91.00\n",
      "\n"
     ]
    }
   ],
   "source": [
    "# Basic statistics\n",
    "print(\"Dataset Overview:\")\n",
    "print(df.info())\n",
    "print(\"\\nDescriptive Statistics:\")\n",
    "pd.set_option('display.width', 1000)\n",
    "pd.set_option('display.max_columns', None)\n",
    "print()\n",
    "print(df.describe().round(2))\n",
    "print()"
   ]
  },
  {
   "cell_type": "markdown",
   "id": "e773de6a",
   "metadata": {},
   "source": [
    "### 4.1 Multi-Label Postures Distribution Analysis"
   ]
  },
  {
   "cell_type": "code",
   "execution_count": 9,
   "id": "0ad29e01",
   "metadata": {},
   "outputs": [
    {
     "data": {
      "image/png": "[encoded data removed]",
      "text/plain": [
       "<Figure size 1000x600 with 1 Axes>"
      ]
     },
     "metadata": {},
     "output_type": "display_data"
    },
    {
     "data": {
      "image/png": "[encoded data removed]",
      "text/plain": [
       "<Figure size 1200x600 with 1 Axes>"
      ]
     },
     "metadata": {},
     "output_type": "display_data"
    }
   ],
   "source": [
    "plt.figure(figsize=(10, 6))\n",
    "\n",
    "# Count number of documents per number of postures\n",
    "posture_counts = df['num_postures'].value_counts().sort_index()\n",
    "plt.bar(posture_counts.index, posture_counts.values)\n",
    "plt.title('Distribution of Number of Postures per Document')\n",
    "plt.xlabel('Number of Postures')\n",
    "plt.ylabel('Number of Documents')\n",
    "plt.show()\n",
    "\n",
    "# Most common postures\n",
    "all_postures = []\n",
    "for postures in df['postures']:\n",
    "    if postures:\n",
    "        all_postures.extend([p.strip() for p in postures.split(',')])\n",
    "\n",
    "posture_freq = pd.Series(all_postures).value_counts().head(10)\n",
    "plt.figure(figsize=(12, 6))\n",
    "posture_freq.plot(kind='bar')\n",
    "plt.title('Top 10 Most Common Postures')\n",
    "plt.xlabel('Posture')\n",
    "plt.ylabel('Frequency')\n",
    "plt.xticks(rotation=45, ha='right')\n",
    "plt.tight_layout()\n",
    "plt.show()"
   ]
  },
  {
   "cell_type": "code",
   "execution_count": 10,
   "id": "db9f2d71",
   "metadata": {},
   "outputs": [
    {
     "data": {
      "text/html": [
       "<style type=\"text/css\">\n",
       "#T_76807 caption {\n",
       "  color: red;\n",
       "  font-size: 15px;\n",
       "}\n",
       "</style>\n",
       "<table id=\"T_76807\">\n",
       "  <caption>Distribution of num_postures</caption>\n",
       "  <thead>\n",
       "    <tr>\n",
       "      <th class=\"blank level0\" >&nbsp;</th>\n",
       "      <th id=\"T_76807_level0_col0\" class=\"col_heading level0 col0\" >count</th>\n",
       "      <th id=\"T_76807_level0_col1\" class=\"col_heading level0 col1\" >percentage</th>\n",
       "    </tr>\n",
       "    <tr>\n",
       "      <th class=\"index_name level0\" >num_postures</th>\n",
       "      <th class=\"blank col0\" >&nbsp;</th>\n",
       "      <th class=\"blank col1\" >&nbsp;</th>\n",
       "    </tr>\n",
       "  </thead>\n",
       "  <tbody>\n",
       "    <tr>\n",
       "      <th id=\"T_76807_level0_row0\" class=\"row_heading level0 row0\" >0</th>\n",
       "      <td id=\"T_76807_row0_col0\" class=\"data row0 col0\" >923</td>\n",
       "      <td id=\"T_76807_row0_col1\" class=\"data row0 col1\" >5.13%</td>\n",
       "    </tr>\n",
       "    <tr>\n",
       "      <th id=\"T_76807_level0_row1\" class=\"row_heading level0 row1\" >1</th>\n",
       "      <td id=\"T_76807_row1_col0\" class=\"data row1 col0\" >8,118</td>\n",
       "      <td id=\"T_76807_row1_col1\" class=\"data row1 col1\" >45.10%</td>\n",
       "    </tr>\n",
       "    <tr>\n",
       "      <th id=\"T_76807_level0_row2\" class=\"row_heading level0 row2\" >2</th>\n",
       "      <td id=\"T_76807_row2_col0\" class=\"data row2 col0\" >7,604</td>\n",
       "      <td id=\"T_76807_row2_col1\" class=\"data row2 col1\" >42.24%</td>\n",
       "    </tr>\n",
       "    <tr>\n",
       "      <th id=\"T_76807_level0_row3\" class=\"row_heading level0 row3\" >3</th>\n",
       "      <td id=\"T_76807_row3_col0\" class=\"data row3 col0\" >1,129</td>\n",
       "      <td id=\"T_76807_row3_col1\" class=\"data row3 col1\" >6.27%</td>\n",
       "    </tr>\n",
       "    <tr>\n",
       "      <th id=\"T_76807_level0_row4\" class=\"row_heading level0 row4\" >4</th>\n",
       "      <td id=\"T_76807_row4_col0\" class=\"data row4 col0\" >190</td>\n",
       "      <td id=\"T_76807_row4_col1\" class=\"data row4 col1\" >1.06%</td>\n",
       "    </tr>\n",
       "    <tr>\n",
       "      <th id=\"T_76807_level0_row5\" class=\"row_heading level0 row5\" >5</th>\n",
       "      <td id=\"T_76807_row5_col0\" class=\"data row5 col0\" >32</td>\n",
       "      <td id=\"T_76807_row5_col1\" class=\"data row5 col1\" >0.18%</td>\n",
       "    </tr>\n",
       "    <tr>\n",
       "      <th id=\"T_76807_level0_row6\" class=\"row_heading level0 row6\" >6</th>\n",
       "      <td id=\"T_76807_row6_col0\" class=\"data row6 col0\" >2</td>\n",
       "      <td id=\"T_76807_row6_col1\" class=\"data row6 col1\" >0.01%</td>\n",
       "    </tr>\n",
       "    <tr>\n",
       "      <th id=\"T_76807_level0_row7\" class=\"row_heading level0 row7\" >7</th>\n",
       "      <td id=\"T_76807_row7_col0\" class=\"data row7 col0\" >2</td>\n",
       "      <td id=\"T_76807_row7_col1\" class=\"data row7 col1\" >0.01%</td>\n",
       "    </tr>\n",
       "  </tbody>\n",
       "</table>\n"
      ],
      "text/plain": [
       "<pandas.io.formats.style.Styler at 0x7ffbb4718650>"
      ]
     },
     "execution_count": 10,
     "metadata": {},
     "output_type": "execute_result"
    }
   ],
   "source": [
    "_counts = df['num_postures'].value_counts(dropna=False)\n",
    "_pct = df['num_postures'].value_counts(dropna=False,normalize=True) \n",
    "\n",
    "pd.DataFrame({\n",
    "    'count': _counts,\n",
    "    'percentage': _pct\n",
    "}).sort_index().style.format({'count':'{:,}','percentage':'{:.2%}'}).set_caption(\"Distribution of num_postures\")\\\n",
    "    .set_table_styles([{'selector': 'caption','props': [('color', 'red'),('font-size', '15px')]}])"
   ]
  },
  {
   "cell_type": "markdown",
   "id": "01cfc5a7",
   "metadata": {},
   "source": [
    "<span style=\"font-weight: bold; font-size: 18px;\">**Multi-Label Posture Distribution Analysis**<br>\n",
    "\n",
    "Based on the distribution charts examining posture frequency and prevalence patterns, the following key insights emerge:\n",
    "\n",
    "**Label Distribution Characteristics:**\n",
    "\n",
    "<div style=\"margin-left: 20px;\"> • <strong>Modal Distribution:</strong> The majority of documents exhibit 1-2 posture labels, indicating a relatively sparse multi-label structure</div></br>\n",
    "\n",
    "<div style=\"margin-left: 20px;\"> • <strong>Label Complexity:</strong> Documents can contain up to 4+ concurrent posture labels, representing the complexity of multi-label density</div></br>\n",
    "\n",
    "<div style=\"margin-left: 20px;\"> • <strong>Unlabeled Data:</strong> Approximately 1,000 documents lack posture annotations (num_postures=0), requiring exclusion from the training dataset to prevent noise injection</div></br>\n",
    "\n",
    "<div style=\"margin-left: 20px;\"> • <strong>Severe Label Imbalance:</strong> \"On Appeal\" and \"Appellate Review\" dominate the dataset as the most prevalent posture labels, while numerous categories exhibit extremely low frequency, creating a highly imbalanced multi-label distribution that poses significant challenges for model training</div></br>\n",
    "\n",
    "<div style=\"margin-left: 20px;\"> • <strong>Class Imbalance Mitigation Strategies:</strong> </br>\n",
    "\n",
    "The substantial disparity between dominant and rare categories necessitates implementation of specialized techniques such as:</br>\n",
    "\n",
    "  <div style=\"margin-left: 40px;\">- Undersampling of overrepresented classes</div></br>\n",
    "\n",
    "  <div style=\"margin-left: 40px;\">- Class-weighted loss functions to amplify learning signals from minority categories</div></br>\n",
    "\n",
    "  <div style=\"margin-left: 40px;\">- Focal loss or other imbalance-aware optimization approaches</div></br>\n",
    "\n",
    "</div>\n",
    "\n",
    "<div style=\"margin-left: 20px;\"> • <strong>Training Implications:</strong> Without proper handling of this imbalance, the model may develop bias toward frequent categories while failing to adequately learn rare but potentially important legal postures</div>\n",
    "\n",
    "**Data Quality Implications:**\n",
    "The identified unlabeled instances necessitate data preprocessing to ensure training dataset integrity and model performance optimization.\n",
    "\n",
    "</span>"
   ]
  },
  {
   "cell_type": "code",
   "execution_count": 11,
   "id": "8dd36d4c",
   "metadata": {},
   "outputs": [
    {
     "name": "stdout",
     "output_type": "stream",
     "text": [
      "Documents with postures:      17,077              \n",
      "Documents without postures:   923                 \n"
     ]
    }
   ],
   "source": [
    "# Prepare the labels - convert postures to a list format\n",
    "def prepare_labels(postures_str):\n",
    "    \"\"\"Convert posture string to list of postures\"\"\"\n",
    "    if pd.isna(postures_str) or postures_str == '':\n",
    "        return []\n",
    "    return [p.strip() for p in postures_str.split(',') if p.strip()]\n",
    "\n",
    "df['posture_list'] = df['postures'].apply(prepare_labels)\n",
    "\n",
    "# Remove documents with no postures\n",
    "df_temp = df[df['posture_list'].apply(len) > 0].copy()\n",
    "print(\"{:<30}{:<20,}\".format(\"Documents with postures: \", len(df_temp)))\n",
    "print(\"{:<30}{:<20}\".format(\"Documents without postures: \", len(df)-len(df_temp)))"
   ]
  },
  {
   "cell_type": "code",
   "execution_count": 12,
   "id": "b32cbb7d",
   "metadata": {},
   "outputs": [
    {
     "name": "stdout",
     "output_type": "stream",
     "text": [
      "\n",
      "Total unique postures: 230\n",
      "\n",
      "Most common postures:\n",
      "On Appeal                                                         9197\n",
      "Appellate Review                                                  4652\n",
      "Review of Administrative Decision                                 2773\n",
      "Motion to Dismiss                                                 1679\n",
      "Sentencing or Penalty Phase Motion or Objection                   1342\n",
      "Trial or Guilt Phase Motion or Objection                          1097\n",
      "Motion for Attorney's Fees                                         612\n",
      "Post-Trial Hearing Motion                                          512\n",
      "Motion for Preliminary Injunction                                  364\n",
      "Motion to Dismiss for Lack of Subject Matter Jurisdiction          343\n",
      "Motion to Compel Arbitration                                       255\n",
      "Motion for New Trial                                               226\n",
      "Petition to Terminate Parental Rights                              219\n",
      "Motion for Judgment as a Matter of Law (JMOL)/Directed Verdict     212\n",
      "Motion for Reconsideration                                         206\n",
      "Name: count, dtype: int64\n"
     ]
    }
   ],
   "source": [
    "# Analyze posture distribution\n",
    "all_postures_ml = []\n",
    "for postures in df_temp['posture_list']:\n",
    "    all_postures_ml.extend(postures)\n",
    "\n",
    "posture_counts = pd.Series(all_postures_ml).value_counts()\n",
    "print(f\"\\nTotal unique postures: {len(posture_counts)}\")\n",
    "print()\n",
    "print(f\"Most common postures:\")\n",
    "print(posture_counts.head(15))"
   ]
  },
  {
   "cell_type": "code",
   "execution_count": 13,
   "id": "8a9fdc4f",
   "metadata": {},
   "outputs": [
    {
     "name": "stdout",
     "output_type": "stream",
     "text": [
      "\n",
      "Postures with >= 100 occurrences: 27\n",
      "['On Appeal', 'Appellate Review', 'Review of Administrative Decision', 'Motion to Dismiss', 'Sentencing or Penalty Phase Motion or Objection', 'Trial or Guilt Phase Motion or Objection', \"Motion for Attorney's Fees\", 'Post-Trial Hearing Motion', 'Motion for Preliminary Injunction', 'Motion to Dismiss for Lack of Subject Matter Jurisdiction', 'Motion to Compel Arbitration', 'Motion for New Trial', 'Petition to Terminate Parental Rights', 'Motion for Judgment as a Matter of Law (JMOL)/Directed Verdict', 'Motion for Reconsideration', 'Motion to Dismiss for Lack of Personal Jurisdiction', 'Motion for Costs', 'Juvenile Delinquency Proceeding', 'Motion for Default Judgment/Order of Default', 'Motion to Dismiss for Lack of Standing', 'Motion to Dismiss for Lack of Jurisdiction', 'Motion to Transfer or Change Venue', 'Petition for Divorce or Dissolution', 'Motion for Contempt', 'Motion for Protective Order', 'Motion for Permanent Injunction', 'Motion to Set Aside or Vacate']\n"
     ]
    }
   ],
   "source": [
    "# Filter to most common postures (those appearing in at least 100 documents)\n",
    "min_frequency = 100\n",
    "common_postures = posture_counts[posture_counts >= min_frequency].index.tolist()\n",
    "print(f\"\\nPostures with >= {min_frequency} occurrences: {len(common_postures)}\")\n",
    "print(common_postures)"
   ]
  },
  {
   "cell_type": "code",
   "execution_count": 14,
   "id": "17915f1a",
   "metadata": {},
   "outputs": [
    {
     "name": "stdout",
     "output_type": "stream",
     "text": [
      "Documents after filtering to common postures: 16568\n"
     ]
    }
   ],
   "source": [
    "# Filter documents to only include those with common postures\n",
    "def filter_common_postures(posture_list, common_postures):\n",
    "    \"\"\"Keep only postures that are in the common_postures list\"\"\"\n",
    "    return [p for p in posture_list if p in common_postures]\n",
    "\n",
    "df_temp['filtered_postures'] = df_temp['posture_list'].apply(\n",
    "    lambda x: filter_common_postures(x, common_postures)\n",
    ")\n",
    "\n",
    "# Remove documents that have no common postures after filtering\n",
    "df_ml = df_temp[df_temp['filtered_postures'].apply(len) > 0].copy()\n",
    "print(f\"Documents after filtering to common postures: {len(df_ml)}\")"
   ]
  },
  {
   "cell_type": "code",
   "execution_count": 15,
   "id": "1dca272a",
   "metadata": {},
   "outputs": [
    {
     "data": {
      "text/html": [
       "<style type=\"text/css\">\n",
       "</style>\n",
       "<table id=\"T_d7426\">\n",
       "  <thead>\n",
       "    <tr>\n",
       "      <th class=\"blank level0\" >&nbsp;</th>\n",
       "      <th id=\"T_d7426_level0_col0\" class=\"col_heading level0 col0\" >--</th>\n",
       "      <th id=\"T_d7426_level0_col1\" class=\"col_heading level0 col1\" >sample size</th>\n",
       "      <th id=\"T_d7426_level0_col2\" class=\"col_heading level0 col2\" >Total unique postures</th>\n",
       "    </tr>\n",
       "  </thead>\n",
       "  <tbody>\n",
       "    <tr>\n",
       "      <th id=\"T_d7426_level0_row0\" class=\"row_heading level0 row0\" >0</th>\n",
       "      <td id=\"T_d7426_row0_col0\" class=\"data row0 col0\" >raw_document</td>\n",
       "      <td id=\"T_d7426_row0_col1\" class=\"data row0 col1\" >18,000</td>\n",
       "      <td id=\"T_d7426_row0_col2\" class=\"data row0 col2\" >230</td>\n",
       "    </tr>\n",
       "    <tr>\n",
       "      <th id=\"T_d7426_level0_row1\" class=\"row_heading level0 row1\" >1</th>\n",
       "      <td id=\"T_d7426_row1_col0\" class=\"data row1 col0\" >Removing Missing Postures</td>\n",
       "      <td id=\"T_d7426_row1_col1\" class=\"data row1 col1\" >17,077</td>\n",
       "      <td id=\"T_d7426_row1_col2\" class=\"data row1 col2\" >230</td>\n",
       "    </tr>\n",
       "    <tr>\n",
       "      <th id=\"T_d7426_level0_row2\" class=\"row_heading level0 row2\" >2</th>\n",
       "      <td id=\"T_d7426_row2_col0\" class=\"data row2 col0\" >Filter to Common Postures</td>\n",
       "      <td id=\"T_d7426_row2_col1\" class=\"data row2 col1\" >16,568</td>\n",
       "      <td id=\"T_d7426_row2_col2\" class=\"data row2 col2\" >27</td>\n",
       "    </tr>\n",
       "  </tbody>\n",
       "</table>\n"
      ],
      "text/plain": [
       "<pandas.io.formats.style.Styler at 0x7ffb46c8af00>"
      ]
     },
     "execution_count": 15,
     "metadata": {},
     "output_type": "execute_result"
    }
   ],
   "source": [
    "unique_postures_raw = len(set(itertools.chain.from_iterable(df['posture_list'])))\n",
    "unique_postures_temp = len(set(itertools.chain.from_iterable(df_temp['posture_list'])))\n",
    "unique_postures_ml = len(set(itertools.chain.from_iterable(df_ml['filtered_postures'])))\n",
    "\n",
    "pd.DataFrame({\n",
    "    \"--\": [\"raw_document\", \"Removing Missing Postures\", \"Filter to Common Postures\"],\n",
    "    \"sample size\": [df.shape[0], df_temp.shape[0], df_ml.shape[0]],\n",
    "    \"Total unique postures\": [unique_postures_raw, unique_postures_temp, unique_postures_ml]\n",
    "}).style.format({'sample size':'{:,}'})"
   ]
  },
  {
   "cell_type": "code",
   "execution_count": 30,
   "id": "5072d4f2",
   "metadata": {},
   "outputs": [
    {
     "name": "stdout",
     "output_type": "stream",
     "text": [
      "Data saved to: /mnt/d/TR-Project/report/processed_data/data.pkl\n"
     ]
    }
   ],
   "source": [
    "pickle_path = os.path.join(os.getcwd(), \"processed_data\", 'data.pkl')\n",
    "df_ml.to_pickle(pickle_path)\n",
    "print(f\"Data saved to: {pickle_path}\")"
   ]
  },
  {
   "cell_type": "markdown",
   "id": "64fe93c1",
   "metadata": {},
   "source": [
    "### 4.2 Text Length Distribution Analysis"
   ]
  },
  {
   "cell_type": "markdown",
   "id": "549732d1",
   "metadata": {},
   "source": [
    "<span style=\"color: red; font-weight: bold; font-size: 18px;\"> **Text Length Analysis for Model Selection and Optimization**</br>\n",
    "\n",
    "Analyzing text length distribution is a critical preprocessing step that directly influences model architecture selection and performance optimization. When deploying Large Language Models (LLMs) for this multi-label classification task, context length becomes a pivotal consideration due to several key factors:\n",
    "\n",
    "**Context Length Constraints:** </br>Each LLM architecture has a predefined maximum context length (e.g., 512 tokens for BERT, 4096 for Longformer, 8192 for MordernBERT, 10000+ for many decoder models(Llama, Mistral, Qwen family etc)). Understanding our data's text length distribution enables informed model selection that balances computational efficiency with information preservation.\n",
    "\n",
    "**Resource Optimization:**</br> Oversized context windows lead to unnecessary computational overhead and increased memory consumption without performance gains. Conversely, insufficient context length results in critical information truncation, potentially degrading model accuracy.\n",
    "\n",
    "**Strategic Implications:** </br>By examining the statistical distribution of text lengths across our dataset, we can:\n",
    "\n",
    "Select appropriate model architectures with optimal context lengths\n",
    "Implement efficient text preprocessing strategies (chunking, summarization, or truncation)\n",
    "Estimate computational requirements and training costs\n",
    "Ensure minimal information loss during model input preparation\n",
    "This analysis forms the foundation for making data-driven decisions regarding model selection and hyperparameter configuration. </span>"
   ]
  },
  {
   "cell_type": "code",
   "execution_count": 18,
   "id": "a01a43d6",
   "metadata": {},
   "outputs": [
    {
     "data": {
      "image/png": "[encoded data removed]",
      "text/plain": [
       "<Figure size 1200x600 with 2 Axes>"
      ]
     },
     "metadata": {},
     "output_type": "display_data"
    }
   ],
   "source": [
    "# Text length distribution\n",
    "plt.figure(figsize=(12, 6))\n",
    "\n",
    "plt.subplot(1, 2, 1)\n",
    "plt.hist(df['text_length'], bins=50, alpha=0.7, edgecolor='black')\n",
    "plt.title('Distribution of Text Length')\n",
    "plt.xlabel('Text Length (characters)')\n",
    "plt.ylabel('Frequency')\n",
    "\n",
    "plt.subplot(1, 2, 2)\n",
    "plt.hist(df['word_count'], bins=50, alpha=0.7, edgecolor='black', color='orange')\n",
    "plt.title('Distribution of Word Count')\n",
    "plt.xlabel('Word Count')\n",
    "plt.ylabel('Frequency')\n",
    "\n",
    "plt.tight_layout()\n",
    "plt.show()"
   ]
  },
  {
   "cell_type": "markdown",
   "id": "e7cf68bf",
   "metadata": {},
   "source": [
    "<span style=\"font-weight: bold; font-size: 18px;\"> **Accurate Text Length Measurement Using Subword Tokenization**</br>\n",
    "\n",
    "The initial text length analysis employed a basic word-counting approach using whitespace as delimiters. However, this naive methodology fails to accurately represent how Large Language Models process and interpret textual input, leading to potential misestimation of context requirements.\n",
    "\n",
    "**Tokenization Discrepancy:**</br> LLMs do not process text at the word level as humans do. Instead, they utilize sophisticated subword tokenization algorithms including:\n",
    "\n",
    "<div style=\"margin-left: 20px;\">1. Byte Pair Encoding (BPE): Used by GPT models</div>\n",
    "<div style=\"margin-left: 20px;\">2. WordPiece: Employed by BERT variants</div>\n",
    "<div style=\"margin-left: 20px;\">3. SentencePiece: Utilized by T5 and many multilingual models</div>\n",
    "\n",
    "**Technical Implementation:**</br> To obtain precise context length measurements that align with actual LLM processing, we implement tokenization using ModernBERT, which employs BPE (Byte Pair Encoding) for subword segmentation. This approach provides several advantages:\n",
    "\n",
    "<div style=\"margin-left: 20px;\">1. Accurate Token Counting: Measures text length in the same units that the model processes</div>\n",
    "<div style=\"margin-left: 20px;\">2. Context Window Optimization: Enables precise estimation of how much text fits within model constraints</div>\n",
    "<div style=\"margin-left: 20px;\">3. Model-Agnostic Approach: The methodology can be adapted for different tokenizers (e.g., GPT-2/3/4 or many other LLMs' tokenizer) based on target model selection</div>\n",
    "\n",
    "\n",
    "</span>"
   ]
  },
  {
   "cell_type": "markdown",
   "id": "6f66367a",
   "metadata": {},
   "source": [
    "### text length distribution using subword tokenization"
   ]
  },
  {
   "cell_type": "code",
   "execution_count": 19,
   "id": "12e0f90a",
   "metadata": {},
   "outputs": [],
   "source": [
    "from transformers import AutoTokenizer\n",
    "model_path = \"answerdotai/ModernBERT-base\"\n",
    "tokenizer = AutoTokenizer.from_pretrained(model_path)\n"
   ]
  },
  {
   "cell_type": "code",
   "execution_count": 20,
   "id": "7fc3e951",
   "metadata": {},
   "outputs": [
    {
     "data": {
      "application/vnd.jupyter.widget-view+json": {
       "model_id": "b33eae06103d49a5a32d5ade073e36bb",
       "version_major": 2,
       "version_minor": 0
      },
      "text/plain": [
       "Map:   0%|          | 0/16568 [00:00<?, ? examples/s]"
      ]
     },
     "metadata": {},
     "output_type": "display_data"
    },
    {
     "name": "stderr",
     "output_type": "stream",
     "text": [
      "Token indices sequence length is longer than the specified maximum sequence length for this model (10760 > 8192). Running this sequence through the model will result in indexing errors\n"
     ]
    },
    {
     "data": {
      "application/vnd.jupyter.widget-view+json": {
       "model_id": "b1f45dddec8e4f999e3dc93847a9145d",
       "version_major": 2,
       "version_minor": 0
      },
      "text/plain": [
       "Map:   0%|          | 0/16568 [00:00<?, ? examples/s]"
      ]
     },
     "metadata": {},
     "output_type": "display_data"
    }
   ],
   "source": [
    "from datasets import Dataset\n",
    "# text_df=df[\"full_text\"].to_frame(\"text\")\n",
    "text_df=df_ml.loc[:,[\"full_text\",\"postures\"]]\n",
    "hf=Dataset.from_pandas(text_df)\n",
    "\n",
    "def compute_lenth(example):\n",
    "    return {\"text_length\":len(example[\"input_ids\"])}\n",
    "hf=hf.map(lambda x: tokenizer(x[\"full_text\"]),batched=True)\n",
    "hf=hf.map(compute_lenth)\n",
    "df0=hf.to_pandas()"
   ]
  },
  {
   "cell_type": "code",
   "execution_count": 21,
   "id": "b464cd1e",
   "metadata": {},
   "outputs": [
    {
     "data": {
      "image/png": "[encoded data removed]",
      "text/plain": [
       "<Figure size 1200x600 with 1 Axes>"
      ]
     },
     "metadata": {},
     "output_type": "display_data"
    }
   ],
   "source": [
    "# Text length distribution\n",
    "plt.figure(figsize=(12, 6))\n",
    "\n",
    "plt.hist(df0['text_length'], bins=50, alpha=0.7, edgecolor='black')\n",
    "plt.title('Distribution of Text Length')\n",
    "plt.xlabel('Text Length : Subword Tokenization(BPE)')\n",
    "plt.ylabel('Frequency')\n",
    "\n",
    "plt.tight_layout()\n",
    "plt.show()"
   ]
  },
  {
   "cell_type": "markdown",
   "id": "c7acc6f8",
   "metadata": {},
   "source": [
    "<span style=\"font-weight: bold; font-size: 18px;\">**Subword Tokenization Analysis Results and Model Selection**</br>\n",
    "\n",
    "The subword tokenization analysis reveals that the average text length across the corpus is 3,826 tokens. When considering ModernBERT as our target language model, which supports a maximum context length of 8,192 tokens, this configuration provides excellent coverage for our dataset.\n",
    "\n",
    "Key Findings:\n",
    "\n",
    "<div style=\"margin-left: 20px;\"> •  Average token length: 3,826 tokens per document</div>\n",
    "<div style=\"margin-left: 20px;\"> •  Model capacity: ModernBERT's 8,192-token context window</div>\n",
    "<div style=\"margin-left: 20px;\"> •  Coverage efficiency: Approximately 90% of documents (up to 8,143 tokens) can be processed without truncation</div>\n",
    "\n",
    "\n",
    "</span>"
   ]
  },
  {
   "cell_type": "markdown",
   "id": "66a9807c",
   "metadata": {},
   "source": [
    "## 5. split the data into training, validation and test set"
   ]
  },
  {
   "cell_type": "code",
   "execution_count": 22,
   "id": "c152c7d0",
   "metadata": {},
   "outputs": [
    {
     "name": "stdout",
     "output_type": "stream",
     "text": [
      "Label matrix shape: (16568, 27)\n",
      "Labels: ['Appellate Review' 'Juvenile Delinquency Proceeding'\n",
      " \"Motion for Attorney's Fees\" 'Motion for Contempt' 'Motion for Costs'\n",
      " 'Motion for Default Judgment/Order of Default'\n",
      " 'Motion for Judgment as a Matter of Law (JMOL)/Directed Verdict'\n",
      " 'Motion for New Trial' 'Motion for Permanent Injunction'\n",
      " 'Motion for Preliminary Injunction' 'Motion for Protective Order'\n",
      " 'Motion for Reconsideration' 'Motion to Compel Arbitration'\n",
      " 'Motion to Dismiss' 'Motion to Dismiss for Lack of Jurisdiction'\n",
      " 'Motion to Dismiss for Lack of Personal Jurisdiction'\n",
      " 'Motion to Dismiss for Lack of Standing'\n",
      " 'Motion to Dismiss for Lack of Subject Matter Jurisdiction'\n",
      " 'Motion to Set Aside or Vacate' 'Motion to Transfer or Change Venue'\n",
      " 'On Appeal' 'Petition for Divorce or Dissolution'\n",
      " 'Petition to Terminate Parental Rights' 'Post-Trial Hearing Motion'\n",
      " 'Review of Administrative Decision'\n",
      " 'Sentencing or Penalty Phase Motion or Objection'\n",
      " 'Trial or Guilt Phase Motion or Objection']\n"
     ]
    }
   ],
   "source": [
    "## Multi-label Classification Setup\n",
    "\n",
    "# Create binary label matrix using MultiLabelBinarizer\n",
    "mlb = MultiLabelBinarizer()\n",
    "y_multilabel = mlb.fit_transform(df_ml['filtered_postures'])\n",
    "\n",
    "print(f\"Label matrix shape: {y_multilabel.shape}\")\n",
    "print(f\"Labels: {mlb.classes_}\")"
   ]
  },
  {
   "cell_type": "code",
   "execution_count": 23,
   "id": "122f957d",
   "metadata": {},
   "outputs": [
    {
     "name": "stdout",
     "output_type": "stream",
     "text": [
      "Total samples:    16,568    100%           \n",
      "Training set:     11,597    70%            \n",
      "Validation set:   2,485     15%            \n",
      "Test set:         2,486     15%            \n"
     ]
    }
   ],
   "source": [
    "# Prepare text data\n",
    "X_text = df_ml['full_text'].values\n",
    "\n",
    "# Split the data\n",
    "X_train, X_temp, y_train, y_temp = train_test_split(\n",
    "    X_text, y_multilabel, \n",
    "    test_size=0.3, # 30% for temp (which will be split into val and test)\n",
    "    random_state=42, \n",
    "    stratify=None\n",
    ")\n",
    "\n",
    " # Split temp into validation and test (50-50 split of the 30%)\n",
    "# # This gives us 15% each\n",
    "X_val, X_test, y_val, y_test = train_test_split(\n",
    "    X_temp, y_temp,\n",
    "    test_size=0.5,\n",
    "    random_state=42, \n",
    "    stratify=None\n",
    ")\n",
    "\n",
    "print(\"{:<18}{:<10,}{:<15.0%}\".format(\"Total samples:\",len(df_ml),1))\n",
    "print(\"{:<18}{:<10,}{:<15.0%}\".format(\"Training set:\",len(X_train),len(X_train)/len(df_ml)))\n",
    "print(\"{:<18}{:<10,}{:<15.0%}\".format(\"Validation set:\",len(X_val),len(X_val)/len(df_ml)))\n",
    "print(\"{:<18}{:<10,}{:<15.0%}\".format(\"Test set:\",len(X_test),len(X_test)/len(df_ml)))"
   ]
  },
  {
   "cell_type": "code",
   "execution_count": 24,
   "id": "5a79240b",
   "metadata": {},
   "outputs": [
    {
     "name": "stdout",
     "output_type": "stream",
     "text": [
      "\n",
      "Label distribution in training set:\n",
      "\n",
      "Appellate Review: 3310 (28.5%)\n",
      "Juvenile Delinquency Proceeding: 103 (0.9%)\n",
      "Motion for Attorney's Fees: 412 (3.6%)\n",
      "Motion for Contempt: 88 (0.8%)\n",
      "Motion for Costs: 121 (1.0%)\n",
      "Motion for Default Judgment/Order of Default: 101 (0.9%)\n",
      "Motion for Judgment as a Matter of Law (JMOL)/Directed Verdict: 147 (1.3%)\n",
      "Motion for New Trial: 156 (1.3%)\n",
      "Motion for Permanent Injunction: 73 (0.6%)\n",
      "Motion for Preliminary Injunction: 254 (2.2%)\n",
      "Motion for Protective Order: 73 (0.6%)\n",
      "Motion for Reconsideration: 145 (1.3%)\n",
      "Motion to Compel Arbitration: 179 (1.5%)\n",
      "Motion to Dismiss: 1155 (10.0%)\n",
      "Motion to Dismiss for Lack of Jurisdiction: 82 (0.7%)\n",
      "Motion to Dismiss for Lack of Personal Jurisdiction: 138 (1.2%)\n",
      "Motion to Dismiss for Lack of Standing: 87 (0.8%)\n",
      "Motion to Dismiss for Lack of Subject Matter Jurisdiction: 231 (2.0%)\n",
      "Motion to Set Aside or Vacate: 73 (0.6%)\n",
      "Motion to Transfer or Change Venue: 88 (0.8%)\n",
      "On Appeal: 6404 (55.2%)\n",
      "Petition for Divorce or Dissolution: 82 (0.7%)\n",
      "Petition to Terminate Parental Rights: 167 (1.4%)\n",
      "Post-Trial Hearing Motion: 372 (3.2%)\n",
      "Review of Administrative Decision: 1940 (16.7%)\n",
      "Sentencing or Penalty Phase Motion or Objection: 953 (8.2%)\n",
      "Trial or Guilt Phase Motion or Objection: 776 (6.7%)\n"
     ]
    }
   ],
   "source": [
    "# Check label distribution\n",
    "train_label_sums = y_train.sum(axis=0)\n",
    "val_label_sums = y_val.sum(axis=0)\n",
    "test_label_sums = y_test.sum(axis=0)\n",
    "\n",
    "print(\"\\nLabel distribution in training set:\")\n",
    "print()\n",
    "for i, label in enumerate(mlb.classes_):\n",
    "    print(f\"{label}: {train_label_sums[i]} ({train_label_sums[i]/len(y_train)*100:.1f}%)\")"
   ]
  },
  {
   "cell_type": "code",
   "execution_count": 25,
   "id": "a589e835",
   "metadata": {},
   "outputs": [],
   "source": [
    "# Check label distribution\n",
    "def label_dist(y_train, data_split=\"training\"):\n",
    "    train_label_sums = y_train.sum(axis=0)\n",
    "\n",
    "    # Get top 5 most frequent labels and their indices\n",
    "    top5_indices = train_label_sums.argsort()[-5:][::-1]\n",
    "    top5_labels = [mlb.classes_[i] for i in top5_indices]\n",
    "    top5_counts = train_label_sums[top5_indices]\n",
    "\n",
    "    print(f\"\\nTop 5 most frequent labels in {data_split} set:\")\n",
    "    print()\n",
    "    for idx, label in zip(top5_indices, top5_labels):\n",
    "        count = train_label_sums[idx]\n",
    "        percent = count / len(y_train) \n",
    "        # print(f\"{label}: {count} ({percent:.1f}%)\")\n",
    "        print(\"{:<50}{:<10,}{:<15.1%}\".format(f\"{label}:\", count, percent))"
   ]
  },
  {
   "cell_type": "code",
   "execution_count": 26,
   "id": "becd7630",
   "metadata": {},
   "outputs": [
    {
     "name": "stdout",
     "output_type": "stream",
     "text": [
      "\n",
      "Top 5 most frequent labels in training set:\n",
      "\n",
      "On Appeal:                                        6,404     55.2%          \n",
      "Appellate Review:                                 3,310     28.5%          \n",
      "Review of Administrative Decision:                1,940     16.7%          \n",
      "Motion to Dismiss:                                1,155     10.0%          \n",
      "Sentencing or Penalty Phase Motion or Objection:  953       8.2%           \n"
     ]
    }
   ],
   "source": [
    "label_dist(y_train, data_split=\"training\")"
   ]
  },
  {
   "cell_type": "code",
   "execution_count": 27,
   "id": "65aa9c5b",
   "metadata": {},
   "outputs": [
    {
     "name": "stdout",
     "output_type": "stream",
     "text": [
      "\n",
      "Top 5 most frequent labels in validation set:\n",
      "\n",
      "On Appeal:                                        1,381     55.6%          \n",
      "Appellate Review:                                 679       27.3%          \n",
      "Review of Administrative Decision:                406       16.3%          \n",
      "Motion to Dismiss:                                255       10.3%          \n",
      "Sentencing or Penalty Phase Motion or Objection:  204       8.2%           \n"
     ]
    }
   ],
   "source": [
    "label_dist(y_val, data_split=\"validation\")"
   ]
  },
  {
   "cell_type": "code",
   "execution_count": 28,
   "id": "3977ee69",
   "metadata": {},
   "outputs": [
    {
     "name": "stdout",
     "output_type": "stream",
     "text": [
      "\n",
      "Top 5 most frequent labels in test set:\n",
      "\n",
      "On Appeal:                                        1,412     56.8%          \n",
      "Appellate Review:                                 663       26.7%          \n",
      "Review of Administrative Decision:                427       17.2%          \n",
      "Motion to Dismiss:                                269       10.8%          \n",
      "Sentencing or Penalty Phase Motion or Objection:  185       7.4%           \n"
     ]
    }
   ],
   "source": [
    "label_dist(y_test, data_split=\"test\")"
   ]
  },
  {
   "cell_type": "markdown",
   "id": "69743260",
   "metadata": {},
   "source": [
    "## 6. Save Preprocess Data"
   ]
  },
  {
   "cell_type": "code",
   "execution_count": 29,
   "id": "c0620897",
   "metadata": {},
   "outputs": [
    {
     "name": "stdout",
     "output_type": "stream",
     "text": [
      "All arrays saved with pickle!\n"
     ]
    }
   ],
   "source": [
    "## save preprocess data\n",
    "saved_data=os.path.join(os.getcwd(), 'processed_data')\n",
    "os.makedirs(saved_data, exist_ok=True)\n",
    "# Save using pickle\n",
    "with open(os.path.join(saved_data,'train_arrays.pkl'), 'wb') as f:\n",
    "    pickle.dump({'X_train': X_train, 'y_train': y_train}, f)\n",
    "\n",
    "with open(os.path.join(saved_data,'val_arrays.pkl'), 'wb') as f:\n",
    "    pickle.dump({'X_val': X_val, 'y_val': y_val}, f)\n",
    "\n",
    "with open(os.path.join(saved_data,'test_arrays.pkl'), 'wb') as f:\n",
    "    pickle.dump({'X_test': X_test, 'y_test': y_test}, f)\n",
    "\n",
    "with open(os.path.join(saved_data,'class_name.pkl'), 'wb') as f:\n",
    "    pickle.dump({'class_name': mlb.classes_}, f)\n",
    "\n",
    "print(\"All arrays saved with pickle!\")\n",
    "\n",
    "# To load later:\n",
    "# with open(os.path.join(saved_data,'train_arrays.pkl'), 'rb') as f:\n",
    "#     train_data = pickle.load(f)\n",
    "#     X_train = train_data['X_train']\n",
    "#     y_train = train_data['y_train']\n",
    "#     label_train = train_data['label_train']"
   ]
  }
 ],
 "metadata": {
  "kernelspec": {
   "display_name": "base",
   "language": "python",
   "name": "python3"
  },
  "language_info": {
   "codemirror_mode": {
    "name": "ipython",
    "version": 3
   },
   "file_extension": ".py",
   "mimetype": "text/x-python",
   "name": "python",
   "nbconvert_exporter": "python",
   "pygments_lexer": "ipython3",
   "version": "3.12.4"
  }
 },
 "nbformat": 4,
 "nbformat_minor": 5
}
