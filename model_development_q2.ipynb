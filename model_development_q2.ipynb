{
 "cells": [
  {
   "cell_type": "markdown",
   "id": "4e7a5b02",
   "metadata": {},
   "source": [
    "<span style=\"font-weight: bold; font-size: 18px;\">**Multi-Label Posture Classification: Model Development Strategy**<br><br>\n",
    "\n",
    "We propose a comparative evaluation of two complementary modeling approaches to address the multi-label posture prediction task, each offering distinct advantages for legal document classification.\n",
    "\n",
    "**Baseline Approach: Bag-of-Words Models**<br>\n",
    "\n",
    "Our initial baseline leverages traditional bag-of-words representations (TF-IDF, BM25) combined with multi-label classifiers, justified by several key factors:\n",
    "\n",
    "<div style=\"margin-left: 20px;\"><b>• Computational Efficiency:</b> Lightweight architecture enables rapid prototyping and establishes performance baselines without GPU requirements</div>\n",
    "<div style=\"margin-left: 20px;\"><b>• Statistical Robustness:</b> Word-frequency features provide interpretable, domain-agnostic representations suitable for legal terminology analysis</div>\n",
    "<div style=\"margin-left: 20px;\"><b>• Multi-Label Compatibility:</b> Well-established integration with multi-label algorithms (One-vs-Rest, Binary Relevance, Label Powerset)</div>\n",
    "<div style=\"margin-left: 20px;\"><b>• Baseline Establishment:</b> Provides interpretable performance benchmarks for evaluating more complex architectures</div>\n",
    "\n",
    "**Advanced Approach: Transformer-Based Models (ModernBERT)**<br>\n",
    "\n",
    "Our primary model leverages ModernBERT encoder architecture, specifically designed to address the limitations of traditional BERT for our use case:\n",
    "\n",
    "<div style=\"margin-left: 20px;\"><b>• Extended Context Coverage:</b> ModernBERT's 8,192-token context window accommodates ~90% of our corpus without truncation, preserving critical legal context that may span entire documents</div>\n",
    "\n",
    "<div style=\"margin-left: 20px;\"><b>• Contextual Understanding:</b> Unlike bag-of-words approaches, transformer architectures capture:\n",
    "  <div style=\"margin-left: 40px;\">- Long-range dependencies between legal arguments</div>\n",
    "  <div style=\"margin-left: 40px;\">- Positional relationships between procedural elements</div>\n",
    "  <div style=\"margin-left: 40px;\">- Semantic nuances distinguishing similar posture categories</div>\n",
    "</div>\n",
    "\n",
    "<div style=\"margin-left: 20px;\"><b>• Multi-Label Architecture:</b> The encoder's [CLS] token representation can be effectively coupled with multi-label classification heads, enabling simultaneous prediction of multiple postures</div>\n",
    "\n",
    "<div style=\"margin-left: 20px;\"><b>• Legal Domain Adaptation:</b> Pre-trained language understanding provides superior handling of complex legal terminology and document structure</div>\n",
    "\n",
    "**Comparative Justification:**<br>\n",
    "\n",
    "This dual-approach strategy enables comprehensive evaluation of feature representation impact on multi-label performance, ranging from traditional statistical methods to state-of-the-art contextual understanding, ultimately identifying the optimal balance between computational efficiency and classification accuracy for legal posture prediction.\n",
    "\n",
    "</span>"
   ]
  },
  {
   "cell_type": "markdown",
   "id": "5ce6340b",
   "metadata": {},
   "source": [
    "## Data Preparation for ML"
   ]
  },
  {
   "cell_type": "code",
   "execution_count": 38,
   "id": "f537d7e3",
   "metadata": {},
   "outputs": [],
   "source": [
    "import os\n",
    "import pandas as pd\n",
    "import pickle\n",
    "from sklearn.model_selection import train_test_split\n",
    "from sklearn.preprocessing import MultiLabelBinarizer"
   ]
  },
  {
   "cell_type": "code",
   "execution_count": 15,
   "id": "56de0440",
   "metadata": {},
   "outputs": [
    {
     "name": "stdout",
     "output_type": "stream",
     "text": [
      "Documents with postures: 17077\n"
     ]
    }
   ],
   "source": [
    "# Prepare the labels - convert postures to a list format\n",
    "def prepare_labels(postures_str):\n",
    "    \"\"\"Convert posture string to list of postures\"\"\"\n",
    "    if pd.isna(postures_str) or postures_str == '':\n",
    "        return []\n",
    "    return [p.strip() for p in postures_str.split(',') if p.strip()]\n",
    "\n",
    "# Apply to dataframe\n",
    "_dir=os.path.join(os.getcwd(),\"processed_data\")\n",
    "df=pd.read_pickle(os.path.join(_dir, \"data.pkl\"))\n",
    "df['posture_list'] = df['postures'].apply(prepare_labels)\n",
    "\n",
    "# Remove documents with no postures\n",
    "df_ml = df[df['posture_list'].apply(len) > 0].copy()\n",
    "print(f\"Documents with postures: {len(df_ml)}\")"
   ]
  },
  {
   "cell_type": "code",
   "execution_count": 19,
   "id": "4b115e69",
   "metadata": {},
   "outputs": [
    {
     "name": "stdout",
     "output_type": "stream",
     "text": [
      "\n",
      "Total unique postures: 230\n",
      "\n",
      "Most common postures:\n",
      "On Appeal                                                         9197\n",
      "Appellate Review                                                  4652\n",
      "Review of Administrative Decision                                 2773\n",
      "Motion to Dismiss                                                 1679\n",
      "Sentencing or Penalty Phase Motion or Objection                   1342\n",
      "Trial or Guilt Phase Motion or Objection                          1097\n",
      "Motion for Attorney's Fees                                         612\n",
      "Post-Trial Hearing Motion                                          512\n",
      "Motion for Preliminary Injunction                                  364\n",
      "Motion to Dismiss for Lack of Subject Matter Jurisdiction          343\n",
      "Motion to Compel Arbitration                                       255\n",
      "Motion for New Trial                                               226\n",
      "Petition to Terminate Parental Rights                              219\n",
      "Motion for Judgment as a Matter of Law (JMOL)/Directed Verdict     212\n",
      "Motion for Reconsideration                                         206\n",
      "Name: count, dtype: int64\n"
     ]
    }
   ],
   "source": [
    "# Analyze posture distribution\n",
    "all_postures_ml = []\n",
    "for postures in df_ml['posture_list']:\n",
    "    all_postures_ml.extend(postures)\n",
    "\n",
    "posture_counts = pd.Series(all_postures_ml).value_counts()\n",
    "print(f\"\\nTotal unique postures: {len(posture_counts)}\")\n",
    "print()\n",
    "print(f\"Most common postures:\")\n",
    "print(posture_counts.head(15))"
   ]
  },
  {
   "cell_type": "code",
   "execution_count": 20,
   "id": "a11f4a0b",
   "metadata": {},
   "outputs": [
    {
     "name": "stdout",
     "output_type": "stream",
     "text": [
      "\n",
      "Postures with >= 100 occurrences: 27\n",
      "['On Appeal', 'Appellate Review', 'Review of Administrative Decision', 'Motion to Dismiss', 'Sentencing or Penalty Phase Motion or Objection', 'Trial or Guilt Phase Motion or Objection', \"Motion for Attorney's Fees\", 'Post-Trial Hearing Motion', 'Motion for Preliminary Injunction', 'Motion to Dismiss for Lack of Subject Matter Jurisdiction', 'Motion to Compel Arbitration', 'Motion for New Trial', 'Petition to Terminate Parental Rights', 'Motion for Judgment as a Matter of Law (JMOL)/Directed Verdict', 'Motion for Reconsideration', 'Motion to Dismiss for Lack of Personal Jurisdiction', 'Motion for Costs', 'Juvenile Delinquency Proceeding', 'Motion for Default Judgment/Order of Default', 'Motion to Dismiss for Lack of Standing', 'Motion to Dismiss for Lack of Jurisdiction', 'Motion to Transfer or Change Venue', 'Petition for Divorce or Dissolution', 'Motion for Contempt', 'Motion for Protective Order', 'Motion for Permanent Injunction', 'Motion to Set Aside or Vacate']\n"
     ]
    }
   ],
   "source": [
    "# Filter to most common postures (those appearing in at least 100 documents)\n",
    "min_frequency = 100\n",
    "common_postures = posture_counts[posture_counts >= min_frequency].index.tolist()\n",
    "print(f\"\\nPostures with >= {min_frequency} occurrences: {len(common_postures)}\")\n",
    "print(common_postures)"
   ]
  },
  {
   "cell_type": "code",
   "execution_count": 21,
   "id": "c65e4e63",
   "metadata": {},
   "outputs": [
    {
     "name": "stdout",
     "output_type": "stream",
     "text": [
      "Documents after filtering to common postures: 16568\n",
      "Label matrix shape: (16568, 27)\n",
      "Labels: ['Appellate Review' 'Juvenile Delinquency Proceeding'\n",
      " \"Motion for Attorney's Fees\" 'Motion for Contempt' 'Motion for Costs'\n",
      " 'Motion for Default Judgment/Order of Default'\n",
      " 'Motion for Judgment as a Matter of Law (JMOL)/Directed Verdict'\n",
      " 'Motion for New Trial' 'Motion for Permanent Injunction'\n",
      " 'Motion for Preliminary Injunction' 'Motion for Protective Order'\n",
      " 'Motion for Reconsideration' 'Motion to Compel Arbitration'\n",
      " 'Motion to Dismiss' 'Motion to Dismiss for Lack of Jurisdiction'\n",
      " 'Motion to Dismiss for Lack of Personal Jurisdiction'\n",
      " 'Motion to Dismiss for Lack of Standing'\n",
      " 'Motion to Dismiss for Lack of Subject Matter Jurisdiction'\n",
      " 'Motion to Set Aside or Vacate' 'Motion to Transfer or Change Venue'\n",
      " 'On Appeal' 'Petition for Divorce or Dissolution'\n",
      " 'Petition to Terminate Parental Rights' 'Post-Trial Hearing Motion'\n",
      " 'Review of Administrative Decision'\n",
      " 'Sentencing or Penalty Phase Motion or Objection'\n",
      " 'Trial or Guilt Phase Motion or Objection']\n"
     ]
    }
   ],
   "source": [
    "## Multi-label Classification Setup\n",
    "\n",
    "# Filter documents to only include those with common postures\n",
    "def filter_common_postures(posture_list, common_postures):\n",
    "    \"\"\"Keep only postures that are in the common_postures list\"\"\"\n",
    "    return [p for p in posture_list if p in common_postures]\n",
    "\n",
    "df_ml['filtered_postures'] = df_ml['posture_list'].apply(\n",
    "    lambda x: filter_common_postures(x, common_postures)\n",
    ")\n",
    "\n",
    "# Remove documents that have no common postures after filtering\n",
    "df_ml = df_ml[df_ml['filtered_postures'].apply(len) > 0].copy()\n",
    "print(f\"Documents after filtering to common postures: {len(df_ml)}\")\n",
    "\n",
    "# Create binary label matrix using MultiLabelBinarizer\n",
    "mlb = MultiLabelBinarizer()\n",
    "y_multilabel = mlb.fit_transform(df_ml['filtered_postures'])\n",
    "\n",
    "print(f\"Label matrix shape: {y_multilabel.shape}\")\n",
    "print(f\"Labels: {mlb.classes_}\")"
   ]
  },
  {
   "cell_type": "code",
   "execution_count": 23,
   "id": "26a1650d",
   "metadata": {},
   "outputs": [
    {
     "data": {
      "text/html": [
       "<style type=\"text/css\">\n",
       "#T_c3120 caption {\n",
       "  color: red;\n",
       "  font-size: 15px;\n",
       "}\n",
       "</style>\n",
       "<table id=\"T_c3120\">\n",
       "  <caption>Distribution of num_postures</caption>\n",
       "  <thead>\n",
       "    <tr>\n",
       "      <th class=\"blank level0\" >&nbsp;</th>\n",
       "      <th id=\"T_c3120_level0_col0\" class=\"col_heading level0 col0\" >count</th>\n",
       "      <th id=\"T_c3120_level0_col1\" class=\"col_heading level0 col1\" >percentage</th>\n",
       "    </tr>\n",
       "    <tr>\n",
       "      <th class=\"index_name level0\" >num_postures</th>\n",
       "      <th class=\"blank col0\" >&nbsp;</th>\n",
       "      <th class=\"blank col1\" >&nbsp;</th>\n",
       "    </tr>\n",
       "  </thead>\n",
       "  <tbody>\n",
       "    <tr>\n",
       "      <th id=\"T_c3120_level0_row0\" class=\"row_heading level0 row0\" >1</th>\n",
       "      <td id=\"T_c3120_row0_col0\" class=\"data row0 col0\" >7,649</td>\n",
       "      <td id=\"T_c3120_row0_col1\" class=\"data row0 col1\" >46.17%</td>\n",
       "    </tr>\n",
       "    <tr>\n",
       "      <th id=\"T_c3120_level0_row1\" class=\"row_heading level0 row1\" >2</th>\n",
       "      <td id=\"T_c3120_row1_col0\" class=\"data row1 col0\" >7,567</td>\n",
       "      <td id=\"T_c3120_row1_col1\" class=\"data row1 col1\" >45.67%</td>\n",
       "    </tr>\n",
       "    <tr>\n",
       "      <th id=\"T_c3120_level0_row2\" class=\"row_heading level0 row2\" >3</th>\n",
       "      <td id=\"T_c3120_row2_col0\" class=\"data row2 col0\" >1,127</td>\n",
       "      <td id=\"T_c3120_row2_col1\" class=\"data row2 col1\" >6.80%</td>\n",
       "    </tr>\n",
       "    <tr>\n",
       "      <th id=\"T_c3120_level0_row3\" class=\"row_heading level0 row3\" >4</th>\n",
       "      <td id=\"T_c3120_row3_col0\" class=\"data row3 col0\" >189</td>\n",
       "      <td id=\"T_c3120_row3_col1\" class=\"data row3 col1\" >1.14%</td>\n",
       "    </tr>\n",
       "    <tr>\n",
       "      <th id=\"T_c3120_level0_row4\" class=\"row_heading level0 row4\" >5</th>\n",
       "      <td id=\"T_c3120_row4_col0\" class=\"data row4 col0\" >32</td>\n",
       "      <td id=\"T_c3120_row4_col1\" class=\"data row4 col1\" >0.19%</td>\n",
       "    </tr>\n",
       "    <tr>\n",
       "      <th id=\"T_c3120_level0_row5\" class=\"row_heading level0 row5\" >6</th>\n",
       "      <td id=\"T_c3120_row5_col0\" class=\"data row5 col0\" >2</td>\n",
       "      <td id=\"T_c3120_row5_col1\" class=\"data row5 col1\" >0.01%</td>\n",
       "    </tr>\n",
       "    <tr>\n",
       "      <th id=\"T_c3120_level0_row6\" class=\"row_heading level0 row6\" >7</th>\n",
       "      <td id=\"T_c3120_row6_col0\" class=\"data row6 col0\" >2</td>\n",
       "      <td id=\"T_c3120_row6_col1\" class=\"data row6 col1\" >0.01%</td>\n",
       "    </tr>\n",
       "  </tbody>\n",
       "</table>\n"
      ],
      "text/plain": [
       "<pandas.io.formats.style.Styler at 0x7fa56fa76510>"
      ]
     },
     "execution_count": 23,
     "metadata": {},
     "output_type": "execute_result"
    }
   ],
   "source": [
    "_counts = df_ml['num_postures'].value_counts(dropna=False)\n",
    "_pct = df_ml['num_postures'].value_counts(dropna=False,normalize=True) \n",
    "\n",
    "pd.DataFrame({\n",
    "    'count': _counts,\n",
    "    'percentage': _pct\n",
    "}).sort_index().style.format({'count':'{:,}','percentage':'{:.2%}'}).set_caption(\"Distribution of num_postures\")\\\n",
    "    .set_table_styles([{'selector': 'caption','props': [('color', 'red'),('font-size', '15px')]}])"
   ]
  },
  {
   "cell_type": "code",
   "execution_count": null,
   "id": "4b3bf28e",
   "metadata": {},
   "outputs": [
    {
     "name": "stdout",
     "output_type": "stream",
     "text": [
      "Total samples: 16568\n",
      "Training set: 11597 (70.00%)\n",
      "Validation set: 2485 (15.00%)\n",
      "Test set: 2486 (15.00%)\n"
     ]
    }
   ],
   "source": [
    "# Prepare text data\n",
    "X_text = df_ml['full_text'].values\n",
    "\n",
    "# Split the data\n",
    "X_train, X_temp, y_train, y_temp = train_test_split(\n",
    "    X_text, y_multilabel, \n",
    "    test_size=0.3, # 30% for temp (which will be split into val and test)\n",
    "    random_state=42, \n",
    "    stratify=None\n",
    ")\n",
    "\n",
    " # Split temp into validation and test (50-50 split of the 30%)\n",
    "# # This gives us 15% each\n",
    "X_val, X_test, y_val, y_test = train_test_split(\n",
    "    X_temp, y_temp,\n",
    "    test_size=0.5,\n",
    "    random_state=42, \n",
    "    stratify=None\n",
    ")\n",
    "\n",
    "print(f\"Total samples: {len(df_ml)}\")\n",
    "print(f\"Training set: {len(X_train)} ({len(X_train)/len(df_ml):.2%})\")\n",
    "print(f\"Validation set: {len(X_val)} ({len(X_val)/len(df_ml):.2%})\")\n",
    "print(f\"Test set: {len(X_test)} ({len(X_test)/len(df_ml):.2%})\")"
   ]
  },
  {
   "cell_type": "code",
   "execution_count": 34,
   "id": "a3e4c020",
   "metadata": {},
   "outputs": [
    {
     "name": "stdout",
     "output_type": "stream",
     "text": [
      "\n",
      "Label distribution in training set:\n",
      "Appellate Review: 3310 (28.5%)\n",
      "Juvenile Delinquency Proceeding: 103 (0.9%)\n",
      "Motion for Attorney's Fees: 412 (3.6%)\n",
      "Motion for Contempt: 88 (0.8%)\n",
      "Motion for Costs: 121 (1.0%)\n",
      "Motion for Default Judgment/Order of Default: 101 (0.9%)\n",
      "Motion for Judgment as a Matter of Law (JMOL)/Directed Verdict: 147 (1.3%)\n",
      "Motion for New Trial: 156 (1.3%)\n",
      "Motion for Permanent Injunction: 73 (0.6%)\n",
      "Motion for Preliminary Injunction: 254 (2.2%)\n",
      "Motion for Protective Order: 73 (0.6%)\n",
      "Motion for Reconsideration: 145 (1.3%)\n",
      "Motion to Compel Arbitration: 179 (1.5%)\n",
      "Motion to Dismiss: 1155 (10.0%)\n",
      "Motion to Dismiss for Lack of Jurisdiction: 82 (0.7%)\n",
      "Motion to Dismiss for Lack of Personal Jurisdiction: 138 (1.2%)\n",
      "Motion to Dismiss for Lack of Standing: 87 (0.8%)\n",
      "Motion to Dismiss for Lack of Subject Matter Jurisdiction: 231 (2.0%)\n",
      "Motion to Set Aside or Vacate: 73 (0.6%)\n",
      "Motion to Transfer or Change Venue: 88 (0.8%)\n",
      "On Appeal: 6404 (55.2%)\n",
      "Petition for Divorce or Dissolution: 82 (0.7%)\n",
      "Petition to Terminate Parental Rights: 167 (1.4%)\n",
      "Post-Trial Hearing Motion: 372 (3.2%)\n",
      "Review of Administrative Decision: 1940 (16.7%)\n",
      "Sentencing or Penalty Phase Motion or Objection: 953 (8.2%)\n",
      "Trial or Guilt Phase Motion or Objection: 776 (6.7%)\n"
     ]
    }
   ],
   "source": [
    "# Check label distribution\n",
    "train_label_sums = y_train.sum(axis=0)\n",
    "val_label_sums = y_val.sum(axis=0)\n",
    "test_label_sums = y_test.sum(axis=0)\n",
    "\n",
    "print(\"\\nLabel distribution in training set:\")\n",
    "for i, label in enumerate(mlb.classes_):\n",
    "    print(f\"{label}: {train_label_sums[i]} ({train_label_sums[i]/len(y_train)*100:.1f}%)\")"
   ]
  },
  {
   "cell_type": "code",
   "execution_count": null,
   "id": "5177e708",
   "metadata": {},
   "outputs": [
    {
     "name": "stdout",
     "output_type": "stream",
     "text": [
      "All arrays saved with pickle!\n"
     ]
    }
   ],
   "source": [
    "## save preprocess data\n",
    "saved_data=os.path.join(os.getcwd(), 'processed_data')\n",
    "os.makedirs(saved_data, exist_ok=True)\n",
    "# Save using pickle\n",
    "with open(os.path.join(saved_data,'train_arrays.pkl'), 'wb') as f:\n",
    "    pickle.dump({'X_train': X_train, 'y_train': y_train}, f)\n",
    "\n",
    "with open(os.path.join(saved_data,'val_arrays.pkl'), 'wb') as f:\n",
    "    pickle.dump({'X_val': X_val, 'y_val': y_val}, f)\n",
    "\n",
    "with open(os.path.join(saved_data,'test_arrays.pkl'), 'wb') as f:\n",
    "    pickle.dump({'X_test': X_test, 'y_test': y_test}, f)\n",
    "\n",
    "print(\"All arrays saved with pickle!\")\n",
    "\n",
    "# To load later:\n",
    "# with open(os.path.join(saved_data,'train_arrays.pkl'), 'rb') as f:\n",
    "#     train_data = pickle.load(f)\n",
    "#     X_train = train_data['X_train']\n",
    "#     y_train = train_data['y_train']"
   ]
  },
  {
   "cell_type": "code",
   "execution_count": null,
   "id": "3804c25f",
   "metadata": {},
   "outputs": [],
   "source": [
    "\n"
   ]
  },
  {
   "cell_type": "markdown",
   "id": "4273a31e",
   "metadata": {},
   "source": [
    "## Bag-of-word (TFIDF): Benchmark"
   ]
  },
  {
   "cell_type": "code",
   "execution_count": 45,
   "id": "8244ef62",
   "metadata": {},
   "outputs": [],
   "source": [
    "import os\n",
    "import numpy as np\n",
    "import pandas as pd\n",
    "import xgboost as xgb\n",
    "import lightgbm as lgb\n",
    "from sklearn.model_selection import train_test_split, cross_val_score, StratifiedKFold\n",
    "from sklearn.feature_extraction.text import TfidfVectorizer\n",
    "from sklearn.multiclass import OneVsRestClassifier\n",
    "from sklearn.linear_model import LogisticRegression\n",
    "from sklearn.ensemble import RandomForestClassifier\n",
    "from sklearn.metrics import classification_report, confusion_matrix, accuracy_score, hamming_loss\n",
    "from sklearn.preprocessing import MultiLabelBinarizer\n",
    "\n",
    "import warnings\n",
    "warnings.filterwarnings('ignore')"
   ]
  },
  {
   "cell_type": "code",
   "execution_count": null,
   "id": "aef25990",
   "metadata": {},
   "outputs": [],
   "source": []
  }
 ],
 "metadata": {
  "kernelspec": {
   "display_name": "TR-Project",
   "language": "python",
   "name": "python3"
  },
  "language_info": {
   "codemirror_mode": {
    "name": "ipython",
    "version": 3
   },
   "file_extension": ".py",
   "mimetype": "text/x-python",
   "name": "python",
   "nbconvert_exporter": "python",
   "pygments_lexer": "ipython3",
   "version": "3.13.2"
  }
 },
 "nbformat": 4,
 "nbformat_minor": 5
}
