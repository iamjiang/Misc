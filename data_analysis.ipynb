{
 "cells": [
  {
   "cell_type": "markdown",
   "id": "8ea407cf",
   "metadata": {},
   "source": [
    "# TR Data Challenge 2023 - Data Analysis\n",
    "\n",
    "This notebook reads and analyzes the TRDataChallenge2023.txt file containing legal documents."
   ]
  },
  {
   "cell_type": "code",
   "execution_count": 1,
   "id": "6fe05c2a",
   "metadata": {},
   "outputs": [],
   "source": [
    "import json\n",
    "import pandas as pd\n",
    "import os\n",
    "import matplotlib.pyplot as plt\n",
    "import seaborn as sns\n",
    "\n",
    "# Set display options\n",
    "pd.set_option('display.max_columns', None)\n",
    "pd.set_option('display.width', None)\n",
    "pd.set_option('display.max_colwidth', 100)"
   ]
  },
  {
   "cell_type": "markdown",
   "id": "15ab5d71",
   "metadata": {},
   "source": [
    "## 1. Load the Data"
   ]
  },
  {
   "cell_type": "code",
   "execution_count": 2,
   "id": "34f3c527",
   "metadata": {},
   "outputs": [
    {
     "name": "stdout",
     "output_type": "stream",
     "text": [
      "Loading data from: /mnt/d/TR-Project/TRDataChallenge2023.txt\n",
      "File size: 321.03 MB\n",
      "Loaded 5000 lines...\n",
      "Loaded 10000 lines...\n",
      "Loaded 15000 lines...\n",
      "Total documents loaded: 18000\n"
     ]
    }
   ],
   "source": [
    "def load_tr_data(file_path='/mnt/d/TR-Project/TRDataChallenge2023.txt'):\n",
    "    \"\"\"\n",
    "    Load TR data from the text file.\n",
    "    \"\"\"\n",
    "    documents = []\n",
    "    \n",
    "    print(f\"Loading data from: {file_path}\")\n",
    "    file_size_mb = os.path.getsize(file_path) / (1024*1024)\n",
    "    print(f\"File size: {file_size_mb:.2f} MB\")\n",
    "    \n",
    "    with open(file_path, 'r', encoding='utf-8') as file:\n",
    "        for i, line in enumerate(file):\n",
    "            if line.strip():\n",
    "                try:\n",
    "                    doc = json.loads(line.strip())\n",
    "                    documents.append(doc)\n",
    "                    \n",
    "                    if (i + 1) % 5000 == 0:\n",
    "                        print(f\"Loaded {i + 1} lines...\")\n",
    "                        \n",
    "                except json.JSONDecodeError:\n",
    "                    continue\n",
    "    \n",
    "    print(f\"Total documents loaded: {len(documents)}\")\n",
    "    return documents\n",
    "\n",
    "# Load the data\n",
    "documents = load_tr_data()"
   ]
  },
  {
   "cell_type": "markdown",
   "id": "e02610a3",
   "metadata": {},
   "source": [
    "## 2. Explore Raw Data Structure"
   ]
  },
  {
   "cell_type": "markdown",
   "id": "509219a7",
   "metadata": {},
   "source": [
    "#### explore data structure in terminal before reading it</br>\n",
    "```bash\n",
    "head -n 1 TRDataChallenge2023.txt | python3 -m json.tool\n",
    "```"
   ]
  },
  {
   "cell_type": "code",
   "execution_count": null,
   "id": "690c2cf7",
   "metadata": {},
   "outputs": [
    {
     "name": "stdout",
     "output_type": "stream",
     "text": [
      "Keys in first document:\n",
      "['documentId', 'postures', 'sections']\n",
      "\n",
      "First document:\n",
      "{\n",
      "  \"documentId\": \"Ib4e590e0a55f11e8a5d58a2c8dcb28b5\",\n",
      "  \"postures\": [\n",
      "    \"On Appeal\"\n",
      "  ],\n",
      "  \"sections\": [\n",
      "    {\n",
      "      \"headtext\": \"\",\n",
      "      \"paragraphs\": [\n",
      "        \"Plaintiff Dwight Watson (\\u201cHusband\\u201d) appeals from the trial court\\u2019s equitable distribution order entered 28 February 2017. On appeal, plaintiff contends that the trial court erred in its classification, valuation, and distribution of the parties\\u2019 property and in granting defendant Gertha\\u2009 Watson (\\u201cWife\\u201d) an unequal distribution of martial property. Because the trial court\\u2019s findings of fact do not support its conclusions of law and because the distributional factors found by the trial court are based upon some of those erroneous findings and conclusions, we reverse the equitable distribution order and remand for entry of a new equitable distribution order.\"\n",
      "      ]\n",
      "    },\n",
      "    {\n",
      "      \"headtext\": \"Background\",\n",
      "      \"paragraphs\": [\n",
      "        \"Husband and Wife were married in November 19...\n"
     ]
    }
   ],
   "source": [
    "# Examine the structure of the first document\n",
    "if documents:\n",
    "    print(\"Keys in first document:\")\n",
    "    print(list(documents[0].keys()))\n",
    "    \n",
    "    print(\"\\nFirst document:\")\n",
    "    print(json.dumps(documents[0], indent=2)[:1000] + \"...\")  # Show first 1000 chars"
   ]
  },
  {
   "cell_type": "markdown",
   "id": "0bb3d096",
   "metadata": {},
   "source": [
    "## 3. Convert to DataFrame"
   ]
  },
  {
   "cell_type": "code",
   "execution_count": 6,
   "id": "fccfd83a",
   "metadata": {},
   "outputs": [
    {
     "name": "stdout",
     "output_type": "stream",
     "text": [
      "DataFrame shape: (18000, 10)\n"
     ]
    },
    {
     "data": {
      "text/html": [
       "<div>\n",
       "<style scoped>\n",
       "    .dataframe tbody tr th:only-of-type {\n",
       "        vertical-align: middle;\n",
       "    }\n",
       "\n",
       "    .dataframe tbody tr th {\n",
       "        vertical-align: top;\n",
       "    }\n",
       "\n",
       "    .dataframe thead th {\n",
       "        text-align: right;\n",
       "    }\n",
       "</style>\n",
       "<table border=\"1\" class=\"dataframe\">\n",
       "  <thead>\n",
       "    <tr style=\"text-align: right;\">\n",
       "      <th></th>\n",
       "      <th>document_id</th>\n",
       "      <th>postures</th>\n",
       "      <th>num_postures</th>\n",
       "      <th>num_sections</th>\n",
       "      <th>section_headers</th>\n",
       "      <th>full_text</th>\n",
       "      <th>text_length</th>\n",
       "      <th>word_count</th>\n",
       "      <th>num_paragraphs</th>\n",
       "      <th>num_headers</th>\n",
       "    </tr>\n",
       "  </thead>\n",
       "  <tbody>\n",
       "    <tr>\n",
       "      <th>0</th>\n",
       "      <td>Ib4e590e0a55f11e8a5d58a2c8dcb28b5</td>\n",
       "      <td>On Appeal</td>\n",
       "      <td>1</td>\n",
       "      <td>8</td>\n",
       "      <td>Background | Analysis | I. Classification issues | A. Cadillac El Dorado | B. Valuation of home ...</td>\n",
       "      <td>Plaintiff Dwight Watson (“Husband”) appeals from the trial court’s equitable distribution order ...</td>\n",
       "      <td>25583</td>\n",
       "      <td>4224</td>\n",
       "      <td>44</td>\n",
       "      <td>7</td>\n",
       "    </tr>\n",
       "    <tr>\n",
       "      <th>1</th>\n",
       "      <td>Ib06ab4d056a011e98c7a8e995225dbf9</td>\n",
       "      <td>Appellate Review, Sentencing or Penalty Phase Motion or Objection</td>\n",
       "      <td>2</td>\n",
       "      <td>10</td>\n",
       "      <td>A. Offense Conduct | B. Prior Convictions | C. Guilty Plea | D. Sentencing | II. DISCUSSION | A....</td>\n",
       "      <td>After pleading guilty, William Jerome Howard, Jr., appeals his 168-month sentence for possession...</td>\n",
       "      <td>18846</td>\n",
       "      <td>3004</td>\n",
       "      <td>29</td>\n",
       "      <td>9</td>\n",
       "    </tr>\n",
       "  </tbody>\n",
       "</table>\n",
       "</div>"
      ],
      "text/plain": [
       "                         document_id  \\\n",
       "0  Ib4e590e0a55f11e8a5d58a2c8dcb28b5   \n",
       "1  Ib06ab4d056a011e98c7a8e995225dbf9   \n",
       "\n",
       "                                                            postures  \\\n",
       "0                                                          On Appeal   \n",
       "1  Appellate Review, Sentencing or Penalty Phase Motion or Objection   \n",
       "\n",
       "   num_postures  num_sections  \\\n",
       "0             1             8   \n",
       "1             2            10   \n",
       "\n",
       "                                                                                       section_headers  \\\n",
       "0  Background | Analysis | I. Classification issues | A. Cadillac El Dorado | B. Valuation of home ...   \n",
       "1  A. Offense Conduct | B. Prior Convictions | C. Guilty Plea | D. Sentencing | II. DISCUSSION | A....   \n",
       "\n",
       "                                                                                             full_text  \\\n",
       "0  Plaintiff Dwight Watson (“Husband”) appeals from the trial court’s equitable distribution order ...   \n",
       "1  After pleading guilty, William Jerome Howard, Jr., appeals his 168-month sentence for possession...   \n",
       "\n",
       "   text_length  word_count  num_paragraphs  num_headers  \n",
       "0        25583        4224              44            7  \n",
       "1        18846        3004              29            9  "
      ]
     },
     "execution_count": 6,
     "metadata": {},
     "output_type": "execute_result"
    }
   ],
   "source": [
    "def create_dataframe(documents):\n",
    "    \"\"\"\n",
    "    Convert documents to a pandas DataFrame.\n",
    "    \"\"\"\n",
    "    data = []\n",
    "    \n",
    "    for doc in documents:\n",
    "        # Basic document info\n",
    "        row = {\n",
    "            'document_id': doc.get('documentId', ''),\n",
    "            'postures': ', '.join(doc.get('postures', [])),\n",
    "            'num_postures': len(doc.get('postures', [])),\n",
    "            'num_sections': len(doc.get('sections', [])),\n",
    "        }\n",
    "        \n",
    "        # Extract text content\n",
    "        all_text = []\n",
    "        section_headers = []\n",
    "        \n",
    "        for section in doc.get('sections', []):\n",
    "            header = section.get('headtext', '')\n",
    "            if header:\n",
    "                section_headers.append(header)\n",
    "            \n",
    "            paragraphs = section.get('paragraphs', [])\n",
    "            all_text.extend(paragraphs)\n",
    "        \n",
    "        row['section_headers'] = ' | '.join(section_headers)\n",
    "        row['full_text'] = ' '.join(all_text)\n",
    "        row['text_length'] = len(row['full_text'])\n",
    "        row['word_count'] = len(row['full_text'].split())\n",
    "        row['num_paragraphs'] = len(all_text)\n",
    "        row['num_headers'] = len(section_headers)\n",
    "        \n",
    "        data.append(row)\n",
    "    \n",
    "    return pd.DataFrame(data)\n",
    "\n",
    "# Create DataFrame\n",
    "df = create_dataframe(documents)\n",
    "print(f\"DataFrame shape: {df.shape}\")\n",
    "df.head(2)"
   ]
  },
  {
   "cell_type": "code",
   "execution_count": 19,
   "id": "9aa6eae4",
   "metadata": {},
   "outputs": [
    {
     "data": {
      "text/html": [
       "<pre style=\"white-space:pre;overflow-x:auto;line-height:normal;font-family:Menlo,'DejaVu Sans Mono',consolas,'Courier New',monospace\"><span style=\"color: #c0c0c0; text-decoration-color: #c0c0c0; font-weight: bold\">                                                                                                                   </span>\n",
       "<span style=\"color: #c0c0c0; text-decoration-color: #c0c0c0; font-weight: bold\">Examining the postures values in the dataframe reveals this is a classic multi-label classification problem. Each  </span>\n",
       "<span style=\"color: #c0c0c0; text-decoration-color: #c0c0c0; font-weight: bold\">document can be assigned multiple posture labels simultaneously.                                                   </span>\n",
       "<span style=\"color: #c0c0c0; text-decoration-color: #c0c0c0; font-weight: bold\">                                                                                                                   </span>\n",
       "</pre>\n"
      ],
      "text/plain": [
       "\u001b[1;37m                                                                                                                   \u001b[0m\n",
       "\u001b[1;37mExamining the postures values in the dataframe reveals this is a classic multi-label classification problem. Each  \u001b[0m\n",
       "\u001b[1;37mdocument can be assigned multiple posture labels simultaneously.                                                   \u001b[0m\n",
       "\u001b[1;37m                                                                                                                   \u001b[0m\n"
      ]
     },
     "metadata": {},
     "output_type": "display_data"
    }
   ],
   "source": [
    "text=\"\"\"\n",
    "Examining the postures values in the dataframe reveals this is a classic multi-label classification problem. Each document can be assigned multiple posture labels simultaneously.\n",
    "\"\"\"\n",
    "from rich.console  import Console\n",
    "console=Console()\n",
    "console.print(text, style=\"bold white\", justify=\"left\")"
   ]
  },
  {
   "cell_type": "code",
   "execution_count": 21,
   "id": "feae6443",
   "metadata": {},
   "outputs": [
    {
     "data": {
      "text/html": [
       "<span style=\"font-size: 150%;\">Examining the posture values in the dataframe reveals this is a classic multi-label classification problem. Each document can be assigned multiple posture labels simultaneously.</span>"
      ],
      "text/plain": [
       "<IPython.core.display.HTML object>"
      ]
     },
     "metadata": {},
     "output_type": "display_data"
    }
   ],
   "source": [
    "from IPython.display import HTML, display\n",
    "\n",
    "text = (\n",
    "    \"Examining the posture values in the dataframe reveals this is a classic \"\n",
    "    \"multi-label classification problem. Each document can be assigned multiple \"\n",
    "    \"posture labels simultaneously.\"\n",
    ")\n",
    "\n",
    "display(HTML(f'<span style=\"font-size: 150%;\">{text}</span>'))"
   ]
  },
  {
   "cell_type": "markdown",
   "id": "9db6b985",
   "metadata": {},
   "source": [
    "## 4. Data Analysis and Visualization"
   ]
  },
  {
   "cell_type": "code",
   "execution_count": 7,
   "id": "9eb06eb2",
   "metadata": {},
   "outputs": [
    {
     "name": "stdout",
     "output_type": "stream",
     "text": [
      "Dataset Overview:\n",
      "<class 'pandas.core.frame.DataFrame'>\n",
      "RangeIndex: 18000 entries, 0 to 17999\n",
      "Data columns (total 10 columns):\n",
      " #   Column           Non-Null Count  Dtype \n",
      "---  ------           --------------  ----- \n",
      " 0   document_id      18000 non-null  object\n",
      " 1   postures         18000 non-null  object\n",
      " 2   num_postures     18000 non-null  int64 \n",
      " 3   num_sections     18000 non-null  int64 \n",
      " 4   section_headers  18000 non-null  object\n",
      " 5   full_text        18000 non-null  object\n",
      " 6   text_length      18000 non-null  int64 \n",
      " 7   word_count       18000 non-null  int64 \n",
      " 8   num_paragraphs   18000 non-null  int64 \n",
      " 9   num_headers      18000 non-null  int64 \n",
      "dtypes: int64(6), object(4)\n",
      "memory usage: 1.4+ MB\n",
      "None\n",
      "\n",
      "Descriptive Statistics:\n",
      "       num_postures  num_sections    text_length     word_count  \\\n",
      "count  18000.000000  18000.000000   18000.000000   18000.000000   \n",
      "mean       1.536611      5.086889   17986.551944    2891.668778   \n",
      "std        0.752936      5.730469   19491.445944    3119.720043   \n",
      "min        0.000000      1.000000       0.000000       0.000000   \n",
      "25%        1.000000      1.000000    5642.250000     905.000000   \n",
      "50%        1.000000      4.000000   12809.500000    2062.000000   \n",
      "75%        2.000000      7.000000   23892.750000    3838.250000   \n",
      "max        7.000000     91.000000  785135.000000  124134.000000   \n",
      "\n",
      "       num_paragraphs  num_headers  \n",
      "count     18000.00000  18000.00000  \n",
      "mean         30.12050      4.44950  \n",
      "std          34.08201      5.87634  \n",
      "min           0.00000      0.00000  \n",
      "25%           8.00000      0.00000  \n",
      "50%          21.00000      3.00000  \n",
      "75%          40.00000      7.00000  \n",
      "max        1174.00000     91.00000  \n"
     ]
    }
   ],
   "source": [
    "# Basic statistics\n",
    "print(\"Dataset Overview:\")\n",
    "print(df.info())\n",
    "print(\"\\nDescriptive Statistics:\")\n",
    "print(df.describe())"
   ]
  },
  {
   "cell_type": "markdown",
   "id": "64fe93c1",
   "metadata": {},
   "source": [
    "### text length distribution"
   ]
  },
  {
   "cell_type": "markdown",
   "id": "549732d1",
   "metadata": {},
   "source": [
    "<span style=\"color: red; font-weight: bold; font-size: 18px;\"> **Text Length Analysis for Model Selection and Optimization**</br>\n",
    "\n",
    "Analyzing text length distribution is a critical preprocessing step that directly influences model architecture selection and performance optimization. When deploying Large Language Models (LLMs) for this multi-label classification task, context length becomes a pivotal consideration due to several key factors:\n",
    "\n",
    "**Context Length Constraints:** </br>Each LLM architecture has a predefined maximum context length (e.g., 512 tokens for BERT, 4096 for Longformer, 4096+ for modern transformers). Understanding our data's text length distribution enables informed model selection that balances computational efficiency with information preservation.\n",
    "\n",
    "**Resource Optimization:**</br> Oversized context windows lead to unnecessary computational overhead and increased memory consumption without performance gains. Conversely, insufficient context length results in critical information truncation, potentially degrading model accuracy.\n",
    "\n",
    "**Strategic Implications:** </br>By examining the statistical distribution of text lengths across our dataset, we can:\n",
    "\n",
    "Select appropriate model architectures with optimal context lengths\n",
    "Implement efficient text preprocessing strategies (chunking, summarization, or truncation)\n",
    "Estimate computational requirements and training costs\n",
    "Ensure minimal information loss during model input preparation\n",
    "This analysis forms the foundation for making data-driven decisions regarding model selection and hyperparameter configuration. </span>"
   ]
  },
  {
   "cell_type": "code",
   "execution_count": 24,
   "id": "a01a43d6",
   "metadata": {},
   "outputs": [
    {
     "data": {
      "image/png": "[encoded data removed]",
      "text/plain": [
       "<Figure size 1200x600 with 2 Axes>"
      ]
     },
     "metadata": {},
     "output_type": "display_data"
    }
   ],
   "source": [
    "# Text length distribution\n",
    "plt.figure(figsize=(12, 6))\n",
    "\n",
    "plt.subplot(1, 2, 1)\n",
    "plt.hist(df['text_length'], bins=50, alpha=0.7, edgecolor='black')\n",
    "plt.title('Distribution of Text Length')\n",
    "plt.xlabel('Text Length (characters)')\n",
    "plt.ylabel('Frequency')\n",
    "\n",
    "plt.subplot(1, 2, 2)\n",
    "plt.hist(df['word_count'], bins=50, alpha=0.7, edgecolor='black', color='orange')\n",
    "plt.title('Distribution of Word Count')\n",
    "plt.xlabel('Word Count')\n",
    "plt.ylabel('Frequency')\n",
    "\n",
    "plt.tight_layout()\n",
    "plt.show()"
   ]
  },
  {
   "cell_type": "markdown",
   "id": "ea12940e",
   "metadata": {},
   "source": []
  },
  {
   "cell_type": "markdown",
   "id": "e7cf68bf",
   "metadata": {},
   "source": [
    "<span style=\"font-weight: bold; font-size: 18px;\"> \n",
    "\n",
    "\n",
    "\n",
    "</span>"
   ]
  }
 ],
 "metadata": {
  "kernelspec": {
   "display_name": "TR-Project",
   "language": "python",
   "name": "python3"
  },
  "language_info": {
   "codemirror_mode": {
    "name": "ipython",
    "version": 3
   },
   "file_extension": ".py",
   "mimetype": "text/x-python",
   "name": "python",
   "nbconvert_exporter": "python",
   "pygments_lexer": "ipython3",
   "version": "3.13.2"
  }
 },
 "nbformat": 4,
 "nbformat_minor": 5
}
